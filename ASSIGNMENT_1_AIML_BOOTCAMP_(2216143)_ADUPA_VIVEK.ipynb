{
  "nbformat": 4,
  "nbformat_minor": 0,
  "metadata": {
    "colab": {
      "name": " ASSIGNMENT -1 AIML_BOOTCAMP (2216143) ADUPA VIVEK.ipynb",
      "provenance": [],
      "collapsed_sections": []
    },
    "kernelspec": {
      "name": "python3",
      "display_name": "Python 3"
    },
    "language_info": {
      "name": "python"
    }
  },
  "cells": [
    {
      "cell_type": "markdown",
      "source": [
        "1.Implement the methods of String with examples"
      ],
      "metadata": {
        "id": "ouf7f8qspUK-"
      }
    },
    {
      "cell_type": "code",
      "source": [
        "\n",
        "my_string = 'Hello'\n",
        "print(my_string)\n",
        "\n",
        "my_string = \"Hello\"\n",
        "print(my_string)\n",
        "\n",
        "my_string = '''Hello'''\n",
        "print(my_string)\n",
        "\n",
        "\n",
        "my_string = \"\"\"HI, welcome to\n",
        "           BOOT CAMP\"\"\"\n",
        "print(my_string)"
      ],
      "metadata": {
        "colab": {
          "base_uri": "https://localhost:8080/"
        },
        "id": "U_snhZJfpWrx",
        "outputId": "cfbd53db-585b-45b4-b0f3-6a5344215e9e"
      },
      "execution_count": null,
      "outputs": [
        {
          "output_type": "stream",
          "name": "stdout",
          "text": [
            "Hello\n",
            "Hello\n",
            "Hello\n",
            "HI, welcome to\n",
            "           BOOT CAMP\n"
          ]
        }
      ]
    },
    {
      "cell_type": "code",
      "source": [
        " \n",
        "str = 'ADUPAVIVEK'\n",
        "print('str = ', str)\n",
        "\n",
        "\n",
        "print('str[0] = ', str[0])\n",
        "\n",
        "\n",
        "print('str[-1] = ', str[-1])\n",
        "\n",
        "\n",
        "print('str[1:5] = ', str[1:5])\n",
        "\n",
        "print('str[5:-2] = ', str[5:-2])"
      ],
      "metadata": {
        "colab": {
          "base_uri": "https://localhost:8080/"
        },
        "id": "JHW8NoynqcJo",
        "outputId": "292530bb-c9f2-4681-d33f-6c9ec925545a"
      },
      "execution_count": null,
      "outputs": [
        {
          "output_type": "stream",
          "name": "stdout",
          "text": [
            "str =  ADUPAVIVEK\n",
            "str[0] =  A\n",
            "str[-1] =  K\n",
            "str[1:5] =  DUPA\n",
            "str[5:-2] =  VIV\n"
          ]
        }
      ]
    },
    {
      "cell_type": "code",
      "source": [
        "\n",
        "str1 = 'Hello'\n",
        "str2 ='World!'\n",
        "\n",
        "\n",
        "print('str1 + str2 = ', str1 + str2)\n",
        "print('str1 * 3 =', str1 * 3)"
      ],
      "metadata": {
        "colab": {
          "base_uri": "https://localhost:8080/"
        },
        "id": "CshJHazzrMTT",
        "outputId": "d459fb54-a7d7-43fc-e87b-5e57ebad594f"
      },
      "execution_count": null,
      "outputs": [
        {
          "output_type": "stream",
          "name": "stdout",
          "text": [
            "str1 + str2 =  HelloWorld!\n",
            "str1 * 3 = HelloHelloHello\n"
          ]
        }
      ]
    },
    {
      "cell_type": "code",
      "source": [
        "my_string=\" WELCOME TO BOOTCAMP\"\n",
        "print(my_string.upper())\n",
        "print(my_string.lower())\n",
        "print(my_string.swapcase())\n",
        "print(my_string.title())\n",
        "print(my_string.capitalize())\n",
        "string5=\"  THIS BOOTCAMP IS VERY USEFUL \"\n",
        "print(string5.strip())\n",
        "print(string5.lstrip())\n",
        "print(string5.rstrip())"
      ],
      "metadata": {
        "colab": {
          "base_uri": "https://localhost:8080/"
        },
        "id": "de_4en1fr_jQ",
        "outputId": "ab39dc34-9d13-4761-98a5-7938759139c3"
      },
      "execution_count": null,
      "outputs": [
        {
          "output_type": "stream",
          "name": "stdout",
          "text": [
            " WELCOME TO BOOTCAMP\n",
            " welcome to bootcamp\n",
            " welcome to bootcamp\n",
            " Welcome To Bootcamp\n",
            " welcome to bootcamp\n",
            "THIS BOOTCAMP IS VERY USEFUL\n",
            "THIS BOOTCAMP IS VERY USEFUL \n",
            "  THIS BOOTCAMP IS VERY USEFUL\n"
          ]
        }
      ]
    },
    {
      "cell_type": "code",
      "source": [
        ""
      ],
      "metadata": {
        "id": "RJ9t8K27v4Vr"
      },
      "execution_count": null,
      "outputs": []
    },
    {
      "cell_type": "markdown",
      "source": [
        "2.Implement the methods of List with examples."
      ],
      "metadata": {
        "id": "miLP5wrss3xB"
      }
    },
    {
      "cell_type": "code",
      "source": [
        "my_list = ['a', 'b', 'c', 'd', 'e']\n",
        "\n",
        "print(my_list[0])  \n",
        "\n",
        "\n",
        "print(my_list[1])  \n",
        "\n",
        "\n",
        "print(my_list[5])  \n",
        "\n"
      ],
      "metadata": {
        "colab": {
          "base_uri": "https://localhost:8080/",
          "height": 252
        },
        "id": "8aPT09WWs8t0",
        "outputId": "5256314f-01b7-40f3-85e9-276dd041697b"
      },
      "execution_count": null,
      "outputs": [
        {
          "output_type": "stream",
          "name": "stdout",
          "text": [
            "a\n",
            "b\n"
          ]
        },
        {
          "output_type": "error",
          "ename": "IndexError",
          "evalue": "ignored",
          "traceback": [
            "\u001b[0;31m---------------------------------------------------------------------------\u001b[0m",
            "\u001b[0;31mIndexError\u001b[0m                                Traceback (most recent call last)",
            "\u001b[0;32m<ipython-input-6-8914a7d4ee1c>\u001b[0m in \u001b[0;36m<module>\u001b[0;34m()\u001b[0m\n\u001b[1;32m      7\u001b[0m \u001b[0;34m\u001b[0m\u001b[0m\n\u001b[1;32m      8\u001b[0m \u001b[0;34m\u001b[0m\u001b[0m\n\u001b[0;32m----> 9\u001b[0;31m \u001b[0mprint\u001b[0m\u001b[0;34m(\u001b[0m\u001b[0mmy_list\u001b[0m\u001b[0;34m[\u001b[0m\u001b[0;36m5\u001b[0m\u001b[0;34m]\u001b[0m\u001b[0;34m)\u001b[0m\u001b[0;34m\u001b[0m\u001b[0;34m\u001b[0m\u001b[0m\n\u001b[0m\u001b[1;32m     10\u001b[0m \u001b[0;34m\u001b[0m\u001b[0m\n",
            "\u001b[0;31mIndexError\u001b[0m: list index out of range"
          ]
        }
      ]
    },
    {
      "cell_type": "code",
      "source": [
        "\n",
        "my_list = ['a','b','c','d','e']\n",
        "\n",
        "# last item\n",
        "print(my_list[-1])\n",
        "\n",
        "# fifth last item\n",
        "print(my_list[-5])"
      ],
      "metadata": {
        "colab": {
          "base_uri": "https://localhost:8080/"
        },
        "id": "zatOuL8lt-jN",
        "outputId": "94492d83-888f-4859-d8e1-7e6a147d5c69"
      },
      "execution_count": null,
      "outputs": [
        {
          "output_type": "stream",
          "name": "stdout",
          "text": [
            "e\n",
            "a\n"
          ]
        }
      ]
    },
    {
      "cell_type": "code",
      "source": [
        "\n",
        "\n",
        "my_list = ['v','i','v','e','k','a','d','u','p','a']\n",
        "\n",
        "# elements from index 2 to index 4\n",
        "print(my_list[2:5])\n",
        "\n",
        "# elements from index 5 to end\n",
        "print(my_list[5:])\n",
        "\n",
        "# elements beginning to end\n",
        "print(my_list[:])"
      ],
      "metadata": {
        "colab": {
          "base_uri": "https://localhost:8080/"
        },
        "id": "EmlC4TrhuOs4",
        "outputId": "931be289-8125-47d1-d016-0a4a192b9032"
      },
      "execution_count": null,
      "outputs": [
        {
          "output_type": "stream",
          "name": "stdout",
          "text": [
            "['v', 'e', 'k']\n",
            "['a', 'd', 'u', 'p', 'a']\n",
            "['v', 'i', 'v', 'e', 'k', 'a', 'd', 'u', 'p', 'a']\n"
          ]
        }
      ]
    },
    {
      "cell_type": "code",
      "source": [
        "\n",
        "odd = [7, 3, 5]\n",
        "\n",
        "odd.append(9)\n",
        "\n",
        "print(odd)\n",
        "\n",
        "odd.extend([11, 13, 15])\n",
        "\n",
        "print(odd)"
      ],
      "metadata": {
        "colab": {
          "base_uri": "https://localhost:8080/"
        },
        "id": "_M1_ORXFuyx3",
        "outputId": "48ab8514-c3af-44fd-a5f3-616e9bb92ef1"
      },
      "execution_count": null,
      "outputs": [
        {
          "output_type": "stream",
          "name": "stdout",
          "text": [
            "[7, 3, 5, 9]\n",
            "[7, 3, 5, 9, 11, 13, 15]\n"
          ]
        }
      ]
    },
    {
      "cell_type": "code",
      "source": [
        "\n",
        "odd = [1, 3, 5]\n",
        "\n",
        "print(odd + [9, 7, 5])\n",
        "\n",
        "print([\"sru\"] * 3)"
      ],
      "metadata": {
        "colab": {
          "base_uri": "https://localhost:8080/"
        },
        "id": "aBYdqtz7u8YR",
        "outputId": "0663c38e-2068-4cde-a2ee-4aafdcb469b7"
      },
      "execution_count": null,
      "outputs": [
        {
          "output_type": "stream",
          "name": "stdout",
          "text": [
            "[1, 3, 5, 9, 7, 5]\n",
            "['sru', 'sru', 'sru']\n"
          ]
        }
      ]
    },
    {
      "cell_type": "code",
      "source": [
        "\n",
        "odd = [1, 9]\n",
        "odd.insert(1,3)\n",
        "\n",
        "print(odd)\n",
        "\n"
      ],
      "metadata": {
        "colab": {
          "base_uri": "https://localhost:8080/"
        },
        "id": "LXnjgF7bvGiq",
        "outputId": "d1f93346-6b1d-4dc5-c8e2-fb3fcd7fc3d9"
      },
      "execution_count": null,
      "outputs": [
        {
          "output_type": "stream",
          "name": "stdout",
          "text": [
            "[1, 3, 9]\n"
          ]
        }
      ]
    },
    {
      "cell_type": "code",
      "source": [
        "\n",
        "my_list = ['v', 'i', 'v', 'e', 'k', 'a']\n",
        "\n",
        "# delete one item\n",
        "del my_list[2]\n",
        "\n",
        "print(my_list)\n",
        "\n",
        "# delete multiple items\n",
        "del my_list[1:5]\n",
        "\n",
        "print(my_list)\n",
        "\n",
        "# delete the entire list\n",
        "del my_list\n"
      ],
      "metadata": {
        "colab": {
          "base_uri": "https://localhost:8080/"
        },
        "id": "92DwScArvYga",
        "outputId": "c523ec44-d2fe-4216-8b43-588d9d0fabdc"
      },
      "execution_count": null,
      "outputs": [
        {
          "output_type": "stream",
          "name": "stdout",
          "text": [
            "['v', 'i', 'e', 'k', 'a']\n",
            "['v']\n"
          ]
        }
      ]
    },
    {
      "cell_type": "code",
      "source": [
        "my_list = ['v','i','v','e','k','a','d','u','p','a']\n",
        "my_list.remove('v')\n",
        "\n",
        "\n",
        "print(my_list)\n",
        "\n",
        "print(my_list.pop(1))\n",
        "\n",
        "\n",
        "print(my_list)\n",
        "\n",
        "\n",
        "print(my_list.pop())\n",
        "\n",
        "\n",
        "print(my_list)\n",
        "\n",
        "my_list.clear()\n",
        "print(my_list)"
      ],
      "metadata": {
        "colab": {
          "base_uri": "https://localhost:8080/"
        },
        "id": "Xuq96HwWv8Tg",
        "outputId": "ff04d9d2-1df0-4584-aa24-4196f0daa3b2"
      },
      "execution_count": null,
      "outputs": [
        {
          "output_type": "stream",
          "name": "stdout",
          "text": [
            "['i', 'v', 'e', 'k', 'a', 'd', 'u', 'p', 'a']\n",
            "v\n",
            "['i', 'e', 'k', 'a', 'd', 'u', 'p', 'a']\n",
            "a\n",
            "['i', 'e', 'k', 'a', 'd', 'u', 'p']\n",
            "[]\n"
          ]
        }
      ]
    },
    {
      "cell_type": "code",
      "source": [
        ""
      ],
      "metadata": {
        "id": "QwS6ONA6xQEd"
      },
      "execution_count": null,
      "outputs": []
    },
    {
      "cell_type": "markdown",
      "source": [
        "3.Implement the methods of Tuple with examples."
      ],
      "metadata": {
        "id": "wHqKnk8ExQvK"
      }
    },
    {
      "cell_type": "code",
      "source": [
        "\n",
        "\n",
        "\n",
        "v_tuple = ()\n",
        "print(v_tuple)\n",
        "\n",
        "\n",
        "v_tuple = (1, 2, 3)\n",
        "print(v_tuple)\n",
        "\n",
        "\n",
        "v_tuple = (1, \"Hello\", 5.4)\n",
        "print(v_tuple)\n",
        "\n",
        "\n",
        "v_tuple = (\"burger\", [8, 4, 6], (1, 2, 3))\n",
        "print(v_tuple)"
      ],
      "metadata": {
        "colab": {
          "base_uri": "https://localhost:8080/"
        },
        "id": "fiXLSxP8xSvQ",
        "outputId": "bc1b86cf-27b1-4249-e055-ef22df948b62"
      },
      "execution_count": null,
      "outputs": [
        {
          "output_type": "stream",
          "name": "stdout",
          "text": [
            "()\n",
            "(1, 2, 3)\n",
            "(1, 'Hello', 5.4)\n",
            "('burger', [8, 4, 6], (1, 2, 3))\n"
          ]
        }
      ]
    },
    {
      "cell_type": "code",
      "source": [
        "\n",
        "v_tuple = ('v','i','v','e','k','a')\n",
        "\n",
        "print(v_tuple[0])"
      ],
      "metadata": {
        "colab": {
          "base_uri": "https://localhost:8080/"
        },
        "id": "3OnilpaQy4hR",
        "outputId": "55294713-d25d-473b-94ad-dc51f85184c7"
      },
      "execution_count": null,
      "outputs": [
        {
          "output_type": "stream",
          "name": "stdout",
          "text": [
            "v\n"
          ]
        }
      ]
    },
    {
      "cell_type": "code",
      "source": [
        "\n",
        "v_tuple = ('v','i','v','e','k','a')\n",
        "\n",
        "\n",
        "print(v_tuple[-1])\n",
        "\n",
        "\n",
        "print(v_tuple[-6])"
      ],
      "metadata": {
        "colab": {
          "base_uri": "https://localhost:8080/"
        },
        "id": "T6DcEXXWzFdF",
        "outputId": "3a39ee11-8e45-4414-b86e-6b2a3b6f5f99"
      },
      "execution_count": null,
      "outputs": [
        {
          "output_type": "stream",
          "name": "stdout",
          "text": [
            "a\n",
            "v\n"
          ]
        }
      ]
    },
    {
      "cell_type": "code",
      "source": [
        "v_tuple = ('v','i','v','e','k','a')\n",
        "\n",
        "\n",
        "print(v_tuple.count('i'))  \n",
        "print(v_tuple.index('v')) "
      ],
      "metadata": {
        "colab": {
          "base_uri": "https://localhost:8080/"
        },
        "id": "-JOIAgJTzenI",
        "outputId": "850a6f36-3fe7-417d-e4a7-e1825dabf333"
      },
      "execution_count": null,
      "outputs": [
        {
          "output_type": "stream",
          "name": "stdout",
          "text": [
            "1\n",
            "0\n"
          ]
        }
      ]
    },
    {
      "cell_type": "code",
      "source": [
        "v_tuple = ('v','i','v','e','k','a')\n",
        "\n",
        "del v_tuple\n",
        "\n"
      ],
      "metadata": {
        "id": "YWy9DyWGz9Pi"
      },
      "execution_count": null,
      "outputs": []
    },
    {
      "cell_type": "code",
      "source": [
        ""
      ],
      "metadata": {
        "id": "7IJiuF1m1vn7"
      },
      "execution_count": null,
      "outputs": []
    },
    {
      "cell_type": "markdown",
      "source": [
        "4.Implement the methods of Dictionary with examples."
      ],
      "metadata": {
        "id": "W-juZX0Q2JNF"
      }
    },
    {
      "cell_type": "code",
      "source": [
        "\n",
        "my_dict = {'name': 'vivek', 'age': 19,'address':'warangal'}\n",
        "\n",
        "\n",
        "print(my_dict['name'])\n",
        "\n",
        "\n",
        "print(my_dict.get('age'))\n",
        "\n",
        "\n",
        "print(my_dict.get('address'))\n",
        "\n"
      ],
      "metadata": {
        "colab": {
          "base_uri": "https://localhost:8080/"
        },
        "id": "eImNbh-b2K1K",
        "outputId": "643c1b15-ceba-4d93-ebda-d6f8a4e762ea"
      },
      "execution_count": null,
      "outputs": [
        {
          "output_type": "stream",
          "name": "stdout",
          "text": [
            "vivek\n",
            "19\n",
            "warangal\n"
          ]
        }
      ]
    },
    {
      "cell_type": "code",
      "source": [
        "# Changing and adding Dictionary Elements\n",
        "my_dict = {'name': 'vivek', 'age': 30}\n",
        "\n",
        "my_dict['age'] = 26\n",
        "\n",
        "print(my_dict)\n",
        "\n",
        "\n",
        "my_dict['address'] = 'nzb'\n",
        "\n",
        "\n",
        "print(my_dict)"
      ],
      "metadata": {
        "colab": {
          "base_uri": "https://localhost:8080/"
        },
        "id": "GR0YRkUk2gmz",
        "outputId": "8e855515-6955-4a03-b4f8-a223da5b1077"
      },
      "execution_count": null,
      "outputs": [
        {
          "output_type": "stream",
          "name": "stdout",
          "text": [
            "{'name': 'vivek', 'age': 26}\n",
            "{'name': 'vivek', 'age': 26, 'address': 'nzb'}\n"
          ]
        }
      ]
    },
    {
      "cell_type": "code",
      "source": [
        "dict={'name':'vivek','branch':'CSE(AIML)','year':2,'address':'nzb','college':'SRU'}\n",
        "print(dict['name'])\n",
        "print(dict.keys())\n",
        "print(dict.values())\n",
        "print(dict.get('name'))\n",
        "dict['firstname']='adupa' #add iteam\n",
        "print(dict)\n",
        "dict['college']='SRU' #update value\n",
        "print(dict)\n",
        "dict.pop('address') #remove particular item\n",
        "print(dict)\n",
        "dict.popitem() #remove an item from last\n",
        "print(dict)\n",
        "dict.clear() # clear enter dict\n",
        "print(dict)"
      ],
      "metadata": {
        "colab": {
          "base_uri": "https://localhost:8080/"
        },
        "id": "UffoMpUrT6rr",
        "outputId": "7b839bbc-c15d-47c9-b884-afa3a9789917"
      },
      "execution_count": null,
      "outputs": [
        {
          "output_type": "stream",
          "name": "stdout",
          "text": [
            "vivek\n",
            "dict_keys(['name', 'branch', 'year', 'address', 'college'])\n",
            "dict_values(['vivek', 'CSE(AIML)', 2, 'nzb', 'SRU'])\n",
            "vivek\n",
            "{'name': 'vivek', 'branch': 'CSE(AIML)', 'year': 2, 'address': 'nzb', 'college': 'SRU', 'firstname': 'adupa'}\n",
            "{'name': 'vivek', 'branch': 'CSE(AIML)', 'year': 2, 'address': 'nzb', 'college': 'SRU', 'firstname': 'adupa'}\n",
            "{'name': 'vivek', 'branch': 'CSE(AIML)', 'year': 2, 'college': 'SRU', 'firstname': 'adupa'}\n",
            "{'name': 'vivek', 'branch': 'CSE(AIML)', 'year': 2, 'college': 'SRU'}\n",
            "{}\n"
          ]
        }
      ]
    },
    {
      "cell_type": "markdown",
      "source": [
        "5.Implement the methods of Set with examples."
      ],
      "metadata": {
        "id": "X69XmXFHUTP7"
      }
    },
    {
      "cell_type": "code",
      "source": [
        "set1={11,22,33,44,55,66,77,88,99,111}\n",
        "set2={10,9,7,8,6,5,1,3,2,4}\n",
        "set1.add(11)\n",
        "print(set1)\n",
        "set1.update([12,13,14])\n",
        "print(set1)\n",
        "set1.discard(14)\n",
        "print(set1)\n",
        "set1.remove(44)\n",
        "print(set1)\n",
        "set1.copy()\n",
        "print(set1)\n",
        "set1.difference()\n",
        "print(set1)\n",
        "print(set1)\n",
        "#union\n",
        "print(set1.union(set2))\n",
        "#intersection\n",
        "print(set1.intersection(set2))\n",
        "#difference\n",
        "print(set1-set2)\n",
        "print(set2-set1)\n",
        "set1.pop()\n",
        "print(set1)"
      ],
      "metadata": {
        "colab": {
          "base_uri": "https://localhost:8080/"
        },
        "id": "gE5GcpmuUXdr",
        "outputId": "5be3c2e3-590c-4067-887d-fb82329d8466"
      },
      "execution_count": null,
      "outputs": [
        {
          "output_type": "stream",
          "name": "stdout",
          "text": [
            "{33, 66, 99, 11, 44, 77, 111, 22, 55, 88}\n",
            "{33, 66, 99, 11, 44, 77, 12, 111, 13, 14, 22, 55, 88}\n",
            "{33, 66, 99, 11, 44, 77, 12, 111, 13, 22, 55, 88}\n",
            "{33, 66, 99, 11, 77, 12, 111, 13, 22, 55, 88}\n",
            "{33, 66, 99, 11, 77, 12, 111, 13, 22, 55, 88}\n",
            "{33, 66, 99, 11, 77, 12, 111, 13, 22, 55, 88}\n",
            "{33, 66, 99, 11, 77, 12, 111, 13, 22, 55, 88}\n",
            "{1, 66, 2, 3, 4, 5, 6, 7, 8, 9, 11, 12, 77, 13, 10, 22, 88, 33, 99, 111, 55}\n",
            "set()\n",
            "{33, 66, 99, 11, 12, 77, 13, 111, 22, 55, 88}\n",
            "{1, 2, 3, 4, 5, 6, 7, 8, 9, 10}\n",
            "{66, 99, 11, 77, 12, 111, 13, 22, 55, 88}\n"
          ]
        }
      ]
    },
    {
      "cell_type": "markdown",
      "source": [
        "6.Write a python program to convert Decimal to Binary, Octal and Hexadecimal with direct method"
      ],
      "metadata": {
        "id": "eQRcxyvoUysL"
      }
    },
    {
      "cell_type": "code",
      "source": [
        "print(bin(30))\n",
        "print(oct(30))\n",
        "print(hex(30))"
      ],
      "metadata": {
        "colab": {
          "base_uri": "https://localhost:8080/"
        },
        "id": "Ep2cCPKjVDsv",
        "outputId": "fd19ffb2-3ef0-416f-c39e-7f694a511832"
      },
      "execution_count": null,
      "outputs": [
        {
          "output_type": "stream",
          "name": "stdout",
          "text": [
            "0b11110\n",
            "0o36\n",
            "0x1e\n"
          ]
        }
      ]
    },
    {
      "cell_type": "markdown",
      "source": [
        "7.Implement Arithmetic operators with examples."
      ],
      "metadata": {
        "id": "Kp1dShVTVMQC"
      }
    },
    {
      "cell_type": "code",
      "source": [
        "A=45\n",
        "B=15\n",
        "print(A+B)\n",
        "print(A-B)\n",
        "print(A*B)\n",
        "print(A/B)\n",
        "print(A%B)\n",
        "print(A**B)\n",
        "print(A//B)"
      ],
      "metadata": {
        "colab": {
          "base_uri": "https://localhost:8080/"
        },
        "id": "S9QoD8rZVPls",
        "outputId": "d90fa337-261c-4a74-8c29-bacded8fc2d4"
      },
      "execution_count": null,
      "outputs": [
        {
          "output_type": "stream",
          "name": "stdout",
          "text": [
            "60\n",
            "30\n",
            "675\n",
            "3.0\n",
            "0\n",
            "6283298708943145751953125\n",
            "3\n"
          ]
        }
      ]
    },
    {
      "cell_type": "markdown",
      "source": [
        "8.Implement Assignment operators with examples."
      ],
      "metadata": {
        "id": "KwDGqoT4VX8F"
      }
    },
    {
      "cell_type": "code",
      "source": [
        "a=120\n",
        "b=60\n",
        "c=a+b\n",
        "print(c)\n",
        "c+=a\n",
        "print(c)\n",
        "c-=a\n",
        "print(c)\n",
        "c*=a\n",
        "print(c)\n",
        "c/=a\n",
        "print(c)\n",
        "c=2\n",
        "c%=a\n",
        "print(c)\n",
        "c**=a\n",
        "print(c)\n",
        "c//=a\n",
        "print(c)"
      ],
      "metadata": {
        "colab": {
          "base_uri": "https://localhost:8080/"
        },
        "id": "_nWSUzoWVcPu",
        "outputId": "1a226d15-cc75-4291-ae91-3ccb3e6fc7e1"
      },
      "execution_count": null,
      "outputs": [
        {
          "output_type": "stream",
          "name": "stdout",
          "text": [
            "180\n",
            "300\n",
            "180\n",
            "21600\n",
            "180.0\n",
            "2\n",
            "1329227995784915872903807060280344576\n",
            "11076899964874298940865058835669538\n"
          ]
        }
      ]
    },
    {
      "cell_type": "markdown",
      "source": [
        "9.Implement Comparison operators with examples."
      ],
      "metadata": {
        "id": "XdPElBUeViTA"
      }
    },
    {
      "cell_type": "code",
      "source": [
        "a=33\n",
        "b=23\n",
        "print(a==b)\n",
        "print(a!=b)\n",
        "print(a>b)\n",
        "print(a<b)\n",
        "print(a>=b)\n",
        "print(a<=b)"
      ],
      "metadata": {
        "colab": {
          "base_uri": "https://localhost:8080/"
        },
        "id": "p9rFqaobVlWi",
        "outputId": "4efeb51c-15e8-4f82-fefd-b6f9dd2e57a0"
      },
      "execution_count": null,
      "outputs": [
        {
          "output_type": "stream",
          "name": "stdout",
          "text": [
            "False\n",
            "True\n",
            "True\n",
            "False\n",
            "True\n",
            "False\n"
          ]
        }
      ]
    },
    {
      "cell_type": "markdown",
      "source": [
        "10.Implement Logical operators with examples"
      ],
      "metadata": {
        "id": "cXUXjh6WVuq3"
      }
    },
    {
      "cell_type": "code",
      "source": [
        "a='true'\n",
        "b='false'\n",
        "print(a and b)\n",
        "print(a or b)\n",
        "print(not a)\n",
        "print(not b)"
      ],
      "metadata": {
        "colab": {
          "base_uri": "https://localhost:8080/"
        },
        "id": "TsR1m2SmVxgL",
        "outputId": "703d20ad-2fa8-4bfa-c2b9-2a6435acdf3e"
      },
      "execution_count": null,
      "outputs": [
        {
          "output_type": "stream",
          "name": "stdout",
          "text": [
            "flase\n",
            "true\n",
            "False\n",
            "False\n"
          ]
        }
      ]
    },
    {
      "cell_type": "markdown",
      "source": [
        "11.Implement Bitwise operators with examples"
      ],
      "metadata": {
        "id": "ncxiWYGhV2iQ"
      }
    },
    {
      "cell_type": "code",
      "source": [
        "a=120\n",
        "b=100\n",
        "print(a&b)\n",
        "print(a^b)\n",
        "print(a|b)\n",
        "print(~a)\n",
        "print(a>>2)\n",
        "print(a<<2)"
      ],
      "metadata": {
        "colab": {
          "base_uri": "https://localhost:8080/"
        },
        "id": "gwKiS3UNV5Oe",
        "outputId": "414e8bee-aafd-4db3-dddb-d73e8fd85c0d"
      },
      "execution_count": null,
      "outputs": [
        {
          "output_type": "stream",
          "name": "stdout",
          "text": [
            "96\n",
            "28\n",
            "124\n",
            "-121\n",
            "30\n",
            "480\n"
          ]
        }
      ]
    },
    {
      "cell_type": "markdown",
      "source": [
        "12.Implement Membership operators with examples."
      ],
      "metadata": {
        "id": "_Qlc_f2OWDIU"
      }
    },
    {
      "cell_type": "code",
      "source": [
        "a=[1,2,3,4]\n",
        "b={'bike',6,7,5,'a'}\n",
        "print(6 in a)\n",
        "print('hello' in b)\n",
        "print(3 in a)\n",
        "print('b' not in b)"
      ],
      "metadata": {
        "colab": {
          "base_uri": "https://localhost:8080/"
        },
        "id": "29_YgkNxWEIe",
        "outputId": "370c08b8-9fff-4f78-faec-16ea6d4fed90"
      },
      "execution_count": null,
      "outputs": [
        {
          "output_type": "stream",
          "name": "stdout",
          "text": [
            "False\n",
            "False\n",
            "True\n",
            "True\n"
          ]
        }
      ]
    },
    {
      "cell_type": "markdown",
      "source": [
        "13.Implement Identity operators with examples"
      ],
      "metadata": {
        "id": "2CpqT3G3WmW6"
      }
    },
    {
      "cell_type": "code",
      "source": [
        "a=200\n",
        "b=300\n",
        "x='car'\n",
        "y='bike'\n",
        "print(a is b)\n",
        "print(a is not b)\n",
        "print(x is y)\n",
        "print(x is not y)"
      ],
      "metadata": {
        "colab": {
          "base_uri": "https://localhost:8080/"
        },
        "id": "QXVvgVM6WqpE",
        "outputId": "c6f4c8e8-c3ae-41e0-8907-865d6c396958"
      },
      "execution_count": null,
      "outputs": [
        {
          "output_type": "stream",
          "name": "stdout",
          "text": [
            "False\n",
            "True\n",
            "False\n",
            "True\n"
          ]
        }
      ]
    },
    {
      "cell_type": "markdown",
      "source": [
        "14.demonstrate Negative indexing for List and apply slicing"
      ],
      "metadata": {
        "id": "p5HnuU20XFQi"
      }
    },
    {
      "cell_type": "code",
      "source": [
        "list=[1,6.0,2,3.5,10,20,56,5,1.4]\n",
        "print(list[-1])\n",
        "print(list[-4])\n",
        "print(list[-9:-1])\n",
        "print(list[-9::])\n",
        "print(list[::-1])\n",
        "print(list[::])\n",
        "print(list[-9::5])"
      ],
      "metadata": {
        "colab": {
          "base_uri": "https://localhost:8080/"
        },
        "id": "ph0Fb2XoXF0S",
        "outputId": "ec0186e3-718b-4539-ce9d-7a2f96f083e2"
      },
      "execution_count": null,
      "outputs": [
        {
          "output_type": "stream",
          "name": "stdout",
          "text": [
            "1.4\n",
            "20\n",
            "[1, 6.0, 2, 3.5, 10, 20, 56, 5]\n",
            "[1, 6.0, 2, 3.5, 10, 20, 56, 5, 1.4]\n",
            "[1.4, 5, 56, 20, 10, 3.5, 2, 6.0, 1]\n",
            "[1, 6.0, 2, 3.5, 10, 20, 56, 5, 1.4]\n",
            "[1, 20]\n"
          ]
        }
      ]
    },
    {
      "cell_type": "markdown",
      "source": [
        "15.Predict the output for the given code snippet and justify the result."
      ],
      "metadata": {
        "id": "pefUL09eX05Z"
      }
    },
    {
      "cell_type": "code",
      "source": [
        "print('A series of characters designated as one object known as a string'[::-1][4::3])\n",
        "#[::-1] reverse the whole string and [4::3] reads the string from index 4 and indexjump to the value 3\n",
        "print(\"-------------------------\")\n",
        "print('Welcome to AIML Bootcamp'[3:10][::-1])\n",
        "#[3:10] it starts from 3index and stops at 10index  [::-1]the it will reverse the string"
      ],
      "metadata": {
        "colab": {
          "base_uri": "https://localhost:8080/"
        },
        "id": "pJKmvJ9CX3I3",
        "outputId": "d968c1d9-55f1-4ff2-aaf7-1b44dd898cee"
      },
      "execution_count": null,
      "outputs": [
        {
          "output_type": "stream",
          "name": "stdout",
          "text": [
            "taawkcbe  tgestrcoeeA\n",
            "-------------------------\n",
            "ot emoc\n"
          ]
        }
      ]
    },
    {
      "cell_type": "markdown",
      "source": [
        "16.Write a python code to get desired output\n",
        "Input string:p_phrase=\"was it a car or a cat I saw\"\n",
        "Output string: WAS I TAC A RO RAC A TI SAW"
      ],
      "metadata": {
        "id": "dtG2K77jX82e"
      }
    },
    {
      "cell_type": "code",
      "source": [
        "p_phrase=\"was it a car or a cat I saw\"\n",
        "str=p_phrase.upper()\n",
        "print(str[::-1])"
      ],
      "metadata": {
        "colab": {
          "base_uri": "https://localhost:8080/"
        },
        "id": "KZIYIjtDYMKz",
        "outputId": "bced3e6b-d6ca-4d31-e3a0-29779c03c43a"
      },
      "execution_count": null,
      "outputs": [
        {
          "output_type": "stream",
          "name": "stdout",
          "text": [
            "WAS I TAC A RO RAC A TI SAW\n"
          ]
        }
      ]
    },
    {
      "cell_type": "markdown",
      "source": [
        "17.You are required to generate a word similar to ZOO, X and Y that denote \n",
        "the number of Zs and Os respectively. The generated word similar to ZOO where Y= 2 * X. \n",
        "Input X= 2 Output ZZOOOO \n",
        "Input X= 5 Output ZZZZZOOOOOOOOOO"
      ],
      "metadata": {
        "id": "Pyvnz06gYSIu"
      }
    },
    {
      "cell_type": "code",
      "source": [
        "x=int(input(\"Enter a value\"))\n",
        "y=2*x\n",
        "print('x=',x)\n",
        "print('y=',y)\n",
        "print('Z'*x,'O'*y,sep='')"
      ],
      "metadata": {
        "colab": {
          "base_uri": "https://localhost:8080/"
        },
        "id": "XfkGRdO7YX_A",
        "outputId": "ea128584-4be2-4ed6-9a20-d42a603d947e"
      },
      "execution_count": null,
      "outputs": [
        {
          "output_type": "stream",
          "name": "stdout",
          "text": [
            "Enter a value23\n",
            "x= 23\n",
            "y= 46\n",
            "ZZZZZZZZZZZZZZZZZZZZZZZOOOOOOOOOOOOOOOOOOOOOOOOOOOOOOOOOOOOOOOOOOOOOO\n"
          ]
        }
      ]
    }
  ]
}