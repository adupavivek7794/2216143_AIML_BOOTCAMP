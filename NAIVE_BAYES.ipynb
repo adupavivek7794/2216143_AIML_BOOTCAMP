{
  "nbformat": 4,
  "nbformat_minor": 0,
  "metadata": {
    "colab": {
      "name": "NAIVE_BAYES.ipynb",
      "provenance": [],
      "collapsed_sections": []
    },
    "kernelspec": {
      "name": "python3",
      "display_name": "Python 3"
    },
    "language_info": {
      "name": "python"
    }
  },
  "cells": [
    {
      "cell_type": "code",
      "execution_count": null,
      "metadata": {
        "id": "NoSMBwh9JWKz"
      },
      "outputs": [],
      "source": [
        "import pandas as pd\n",
        "import numpy as np\n",
        "import matplotlib.pyplot as plt\n",
        "import seaborn as sn\n",
        "df=pd.read_csv('/content/sample_data/SUV_Purchase.csv')"
      ]
    },
    {
      "cell_type": "code",
      "source": [
        "df"
      ],
      "metadata": {
        "colab": {
          "base_uri": "https://localhost:8080/",
          "height": 424
        },
        "id": "Iv1l5aNcJ8g1",
        "outputId": "94ab74d3-4d1d-40b2-bd1e-5b2346807874"
      },
      "execution_count": null,
      "outputs": [
        {
          "output_type": "execute_result",
          "data": {
            "text/plain": [
              "      User ID  Gender  Age  EstimatedSalary  Purchased\n",
              "0    15624510    Male   19            19000          0\n",
              "1    15810944    Male   35            20000          0\n",
              "2    15668575  Female   26            43000          0\n",
              "3    15603246  Female   27            57000          0\n",
              "4    15804002    Male   19            76000          0\n",
              "..        ...     ...  ...              ...        ...\n",
              "395  15691863  Female   46            41000          1\n",
              "396  15706071    Male   51            23000          1\n",
              "397  15654296  Female   50            20000          1\n",
              "398  15755018    Male   36            33000          0\n",
              "399  15594041  Female   49            36000          1\n",
              "\n",
              "[400 rows x 5 columns]"
            ],
            "text/html": [
              "\n",
              "  <div id=\"df-e9923d71-9a8a-4a04-94ac-4941ecabd270\">\n",
              "    <div class=\"colab-df-container\">\n",
              "      <div>\n",
              "<style scoped>\n",
              "    .dataframe tbody tr th:only-of-type {\n",
              "        vertical-align: middle;\n",
              "    }\n",
              "\n",
              "    .dataframe tbody tr th {\n",
              "        vertical-align: top;\n",
              "    }\n",
              "\n",
              "    .dataframe thead th {\n",
              "        text-align: right;\n",
              "    }\n",
              "</style>\n",
              "<table border=\"1\" class=\"dataframe\">\n",
              "  <thead>\n",
              "    <tr style=\"text-align: right;\">\n",
              "      <th></th>\n",
              "      <th>User ID</th>\n",
              "      <th>Gender</th>\n",
              "      <th>Age</th>\n",
              "      <th>EstimatedSalary</th>\n",
              "      <th>Purchased</th>\n",
              "    </tr>\n",
              "  </thead>\n",
              "  <tbody>\n",
              "    <tr>\n",
              "      <th>0</th>\n",
              "      <td>15624510</td>\n",
              "      <td>Male</td>\n",
              "      <td>19</td>\n",
              "      <td>19000</td>\n",
              "      <td>0</td>\n",
              "    </tr>\n",
              "    <tr>\n",
              "      <th>1</th>\n",
              "      <td>15810944</td>\n",
              "      <td>Male</td>\n",
              "      <td>35</td>\n",
              "      <td>20000</td>\n",
              "      <td>0</td>\n",
              "    </tr>\n",
              "    <tr>\n",
              "      <th>2</th>\n",
              "      <td>15668575</td>\n",
              "      <td>Female</td>\n",
              "      <td>26</td>\n",
              "      <td>43000</td>\n",
              "      <td>0</td>\n",
              "    </tr>\n",
              "    <tr>\n",
              "      <th>3</th>\n",
              "      <td>15603246</td>\n",
              "      <td>Female</td>\n",
              "      <td>27</td>\n",
              "      <td>57000</td>\n",
              "      <td>0</td>\n",
              "    </tr>\n",
              "    <tr>\n",
              "      <th>4</th>\n",
              "      <td>15804002</td>\n",
              "      <td>Male</td>\n",
              "      <td>19</td>\n",
              "      <td>76000</td>\n",
              "      <td>0</td>\n",
              "    </tr>\n",
              "    <tr>\n",
              "      <th>...</th>\n",
              "      <td>...</td>\n",
              "      <td>...</td>\n",
              "      <td>...</td>\n",
              "      <td>...</td>\n",
              "      <td>...</td>\n",
              "    </tr>\n",
              "    <tr>\n",
              "      <th>395</th>\n",
              "      <td>15691863</td>\n",
              "      <td>Female</td>\n",
              "      <td>46</td>\n",
              "      <td>41000</td>\n",
              "      <td>1</td>\n",
              "    </tr>\n",
              "    <tr>\n",
              "      <th>396</th>\n",
              "      <td>15706071</td>\n",
              "      <td>Male</td>\n",
              "      <td>51</td>\n",
              "      <td>23000</td>\n",
              "      <td>1</td>\n",
              "    </tr>\n",
              "    <tr>\n",
              "      <th>397</th>\n",
              "      <td>15654296</td>\n",
              "      <td>Female</td>\n",
              "      <td>50</td>\n",
              "      <td>20000</td>\n",
              "      <td>1</td>\n",
              "    </tr>\n",
              "    <tr>\n",
              "      <th>398</th>\n",
              "      <td>15755018</td>\n",
              "      <td>Male</td>\n",
              "      <td>36</td>\n",
              "      <td>33000</td>\n",
              "      <td>0</td>\n",
              "    </tr>\n",
              "    <tr>\n",
              "      <th>399</th>\n",
              "      <td>15594041</td>\n",
              "      <td>Female</td>\n",
              "      <td>49</td>\n",
              "      <td>36000</td>\n",
              "      <td>1</td>\n",
              "    </tr>\n",
              "  </tbody>\n",
              "</table>\n",
              "<p>400 rows × 5 columns</p>\n",
              "</div>\n",
              "      <button class=\"colab-df-convert\" onclick=\"convertToInteractive('df-e9923d71-9a8a-4a04-94ac-4941ecabd270')\"\n",
              "              title=\"Convert this dataframe to an interactive table.\"\n",
              "              style=\"display:none;\">\n",
              "        \n",
              "  <svg xmlns=\"http://www.w3.org/2000/svg\" height=\"24px\"viewBox=\"0 0 24 24\"\n",
              "       width=\"24px\">\n",
              "    <path d=\"M0 0h24v24H0V0z\" fill=\"none\"/>\n",
              "    <path d=\"M18.56 5.44l.94 2.06.94-2.06 2.06-.94-2.06-.94-.94-2.06-.94 2.06-2.06.94zm-11 1L8.5 8.5l.94-2.06 2.06-.94-2.06-.94L8.5 2.5l-.94 2.06-2.06.94zm10 10l.94 2.06.94-2.06 2.06-.94-2.06-.94-.94-2.06-.94 2.06-2.06.94z\"/><path d=\"M17.41 7.96l-1.37-1.37c-.4-.4-.92-.59-1.43-.59-.52 0-1.04.2-1.43.59L10.3 9.45l-7.72 7.72c-.78.78-.78 2.05 0 2.83L4 21.41c.39.39.9.59 1.41.59.51 0 1.02-.2 1.41-.59l7.78-7.78 2.81-2.81c.8-.78.8-2.07 0-2.86zM5.41 20L4 18.59l7.72-7.72 1.47 1.35L5.41 20z\"/>\n",
              "  </svg>\n",
              "      </button>\n",
              "      \n",
              "  <style>\n",
              "    .colab-df-container {\n",
              "      display:flex;\n",
              "      flex-wrap:wrap;\n",
              "      gap: 12px;\n",
              "    }\n",
              "\n",
              "    .colab-df-convert {\n",
              "      background-color: #E8F0FE;\n",
              "      border: none;\n",
              "      border-radius: 50%;\n",
              "      cursor: pointer;\n",
              "      display: none;\n",
              "      fill: #1967D2;\n",
              "      height: 32px;\n",
              "      padding: 0 0 0 0;\n",
              "      width: 32px;\n",
              "    }\n",
              "\n",
              "    .colab-df-convert:hover {\n",
              "      background-color: #E2EBFA;\n",
              "      box-shadow: 0px 1px 2px rgba(60, 64, 67, 0.3), 0px 1px 3px 1px rgba(60, 64, 67, 0.15);\n",
              "      fill: #174EA6;\n",
              "    }\n",
              "\n",
              "    [theme=dark] .colab-df-convert {\n",
              "      background-color: #3B4455;\n",
              "      fill: #D2E3FC;\n",
              "    }\n",
              "\n",
              "    [theme=dark] .colab-df-convert:hover {\n",
              "      background-color: #434B5C;\n",
              "      box-shadow: 0px 1px 3px 1px rgba(0, 0, 0, 0.15);\n",
              "      filter: drop-shadow(0px 1px 2px rgba(0, 0, 0, 0.3));\n",
              "      fill: #FFFFFF;\n",
              "    }\n",
              "  </style>\n",
              "\n",
              "      <script>\n",
              "        const buttonEl =\n",
              "          document.querySelector('#df-e9923d71-9a8a-4a04-94ac-4941ecabd270 button.colab-df-convert');\n",
              "        buttonEl.style.display =\n",
              "          google.colab.kernel.accessAllowed ? 'block' : 'none';\n",
              "\n",
              "        async function convertToInteractive(key) {\n",
              "          const element = document.querySelector('#df-e9923d71-9a8a-4a04-94ac-4941ecabd270');\n",
              "          const dataTable =\n",
              "            await google.colab.kernel.invokeFunction('convertToInteractive',\n",
              "                                                     [key], {});\n",
              "          if (!dataTable) return;\n",
              "\n",
              "          const docLinkHtml = 'Like what you see? Visit the ' +\n",
              "            '<a target=\"_blank\" href=https://colab.research.google.com/notebooks/data_table.ipynb>data table notebook</a>'\n",
              "            + ' to learn more about interactive tables.';\n",
              "          element.innerHTML = '';\n",
              "          dataTable['output_type'] = 'display_data';\n",
              "          await google.colab.output.renderOutput(dataTable, element);\n",
              "          const docLink = document.createElement('div');\n",
              "          docLink.innerHTML = docLinkHtml;\n",
              "          element.appendChild(docLink);\n",
              "        }\n",
              "      </script>\n",
              "    </div>\n",
              "  </div>\n",
              "  "
            ]
          },
          "metadata": {},
          "execution_count": 4
        }
      ]
    },
    {
      "cell_type": "code",
      "source": [
        "df=df.drop('Gender',axis=1)\n",
        "df=df.drop('User ID',axis=1)"
      ],
      "metadata": {
        "id": "ruIgx3OOJ-G0"
      },
      "execution_count": null,
      "outputs": []
    },
    {
      "cell_type": "code",
      "source": [
        "# Importing StandardScaler from scikit-learn\n",
        "from sklearn.preprocessing import StandardScaler\n",
        "sc = StandardScaler()\n",
        "data_scaled=df.iloc[:,:-1].values\n",
        "data_scaled=sc.fit_transform(data_scaled)\n",
        "data_scaled=pd.DataFrame(data_scaled)\n",
        "data_scaled.head()"
      ],
      "metadata": {
        "colab": {
          "base_uri": "https://localhost:8080/",
          "height": 206
        },
        "id": "e1uwW83iKEYQ",
        "outputId": "35c450d5-840e-415c-9afc-a1db58a26ee7"
      },
      "execution_count": null,
      "outputs": [
        {
          "output_type": "execute_result",
          "data": {
            "text/plain": [
              "          0         1\n",
              "0 -1.781797 -1.490046\n",
              "1 -0.253587 -1.460681\n",
              "2 -1.113206 -0.785290\n",
              "3 -1.017692 -0.374182\n",
              "4 -1.781797  0.183751"
            ],
            "text/html": [
              "\n",
              "  <div id=\"df-06b8aef9-d881-4950-9c28-af787c186850\">\n",
              "    <div class=\"colab-df-container\">\n",
              "      <div>\n",
              "<style scoped>\n",
              "    .dataframe tbody tr th:only-of-type {\n",
              "        vertical-align: middle;\n",
              "    }\n",
              "\n",
              "    .dataframe tbody tr th {\n",
              "        vertical-align: top;\n",
              "    }\n",
              "\n",
              "    .dataframe thead th {\n",
              "        text-align: right;\n",
              "    }\n",
              "</style>\n",
              "<table border=\"1\" class=\"dataframe\">\n",
              "  <thead>\n",
              "    <tr style=\"text-align: right;\">\n",
              "      <th></th>\n",
              "      <th>0</th>\n",
              "      <th>1</th>\n",
              "    </tr>\n",
              "  </thead>\n",
              "  <tbody>\n",
              "    <tr>\n",
              "      <th>0</th>\n",
              "      <td>-1.781797</td>\n",
              "      <td>-1.490046</td>\n",
              "    </tr>\n",
              "    <tr>\n",
              "      <th>1</th>\n",
              "      <td>-0.253587</td>\n",
              "      <td>-1.460681</td>\n",
              "    </tr>\n",
              "    <tr>\n",
              "      <th>2</th>\n",
              "      <td>-1.113206</td>\n",
              "      <td>-0.785290</td>\n",
              "    </tr>\n",
              "    <tr>\n",
              "      <th>3</th>\n",
              "      <td>-1.017692</td>\n",
              "      <td>-0.374182</td>\n",
              "    </tr>\n",
              "    <tr>\n",
              "      <th>4</th>\n",
              "      <td>-1.781797</td>\n",
              "      <td>0.183751</td>\n",
              "    </tr>\n",
              "  </tbody>\n",
              "</table>\n",
              "</div>\n",
              "      <button class=\"colab-df-convert\" onclick=\"convertToInteractive('df-06b8aef9-d881-4950-9c28-af787c186850')\"\n",
              "              title=\"Convert this dataframe to an interactive table.\"\n",
              "              style=\"display:none;\">\n",
              "        \n",
              "  <svg xmlns=\"http://www.w3.org/2000/svg\" height=\"24px\"viewBox=\"0 0 24 24\"\n",
              "       width=\"24px\">\n",
              "    <path d=\"M0 0h24v24H0V0z\" fill=\"none\"/>\n",
              "    <path d=\"M18.56 5.44l.94 2.06.94-2.06 2.06-.94-2.06-.94-.94-2.06-.94 2.06-2.06.94zm-11 1L8.5 8.5l.94-2.06 2.06-.94-2.06-.94L8.5 2.5l-.94 2.06-2.06.94zm10 10l.94 2.06.94-2.06 2.06-.94-2.06-.94-.94-2.06-.94 2.06-2.06.94z\"/><path d=\"M17.41 7.96l-1.37-1.37c-.4-.4-.92-.59-1.43-.59-.52 0-1.04.2-1.43.59L10.3 9.45l-7.72 7.72c-.78.78-.78 2.05 0 2.83L4 21.41c.39.39.9.59 1.41.59.51 0 1.02-.2 1.41-.59l7.78-7.78 2.81-2.81c.8-.78.8-2.07 0-2.86zM5.41 20L4 18.59l7.72-7.72 1.47 1.35L5.41 20z\"/>\n",
              "  </svg>\n",
              "      </button>\n",
              "      \n",
              "  <style>\n",
              "    .colab-df-container {\n",
              "      display:flex;\n",
              "      flex-wrap:wrap;\n",
              "      gap: 12px;\n",
              "    }\n",
              "\n",
              "    .colab-df-convert {\n",
              "      background-color: #E8F0FE;\n",
              "      border: none;\n",
              "      border-radius: 50%;\n",
              "      cursor: pointer;\n",
              "      display: none;\n",
              "      fill: #1967D2;\n",
              "      height: 32px;\n",
              "      padding: 0 0 0 0;\n",
              "      width: 32px;\n",
              "    }\n",
              "\n",
              "    .colab-df-convert:hover {\n",
              "      background-color: #E2EBFA;\n",
              "      box-shadow: 0px 1px 2px rgba(60, 64, 67, 0.3), 0px 1px 3px 1px rgba(60, 64, 67, 0.15);\n",
              "      fill: #174EA6;\n",
              "    }\n",
              "\n",
              "    [theme=dark] .colab-df-convert {\n",
              "      background-color: #3B4455;\n",
              "      fill: #D2E3FC;\n",
              "    }\n",
              "\n",
              "    [theme=dark] .colab-df-convert:hover {\n",
              "      background-color: #434B5C;\n",
              "      box-shadow: 0px 1px 3px 1px rgba(0, 0, 0, 0.15);\n",
              "      filter: drop-shadow(0px 1px 2px rgba(0, 0, 0, 0.3));\n",
              "      fill: #FFFFFF;\n",
              "    }\n",
              "  </style>\n",
              "\n",
              "      <script>\n",
              "        const buttonEl =\n",
              "          document.querySelector('#df-06b8aef9-d881-4950-9c28-af787c186850 button.colab-df-convert');\n",
              "        buttonEl.style.display =\n",
              "          google.colab.kernel.accessAllowed ? 'block' : 'none';\n",
              "\n",
              "        async function convertToInteractive(key) {\n",
              "          const element = document.querySelector('#df-06b8aef9-d881-4950-9c28-af787c186850');\n",
              "          const dataTable =\n",
              "            await google.colab.kernel.invokeFunction('convertToInteractive',\n",
              "                                                     [key], {});\n",
              "          if (!dataTable) return;\n",
              "\n",
              "          const docLinkHtml = 'Like what you see? Visit the ' +\n",
              "            '<a target=\"_blank\" href=https://colab.research.google.com/notebooks/data_table.ipynb>data table notebook</a>'\n",
              "            + ' to learn more about interactive tables.';\n",
              "          element.innerHTML = '';\n",
              "          dataTable['output_type'] = 'display_data';\n",
              "          await google.colab.output.renderOutput(dataTable, element);\n",
              "          const docLink = document.createElement('div');\n",
              "          docLink.innerHTML = docLinkHtml;\n",
              "          element.appendChild(docLink);\n",
              "        }\n",
              "      </script>\n",
              "    </div>\n",
              "  </div>\n",
              "  "
            ]
          },
          "metadata": {},
          "execution_count": 6
        }
      ]
    },
    {
      "cell_type": "code",
      "source": [
        "data_scaled.columns=['Age','EstimatedSalary']\n",
        "\n",
        "data_scaled.head()"
      ],
      "metadata": {
        "colab": {
          "base_uri": "https://localhost:8080/",
          "height": 206
        },
        "id": "yzLoVR8cKyq4",
        "outputId": "114c14e8-b131-4997-91d3-f48395b0ab9c"
      },
      "execution_count": null,
      "outputs": [
        {
          "output_type": "execute_result",
          "data": {
            "text/plain": [
              "        Age  EstimatedSalary\n",
              "0 -1.781797        -1.490046\n",
              "1 -0.253587        -1.460681\n",
              "2 -1.113206        -0.785290\n",
              "3 -1.017692        -0.374182\n",
              "4 -1.781797         0.183751"
            ],
            "text/html": [
              "\n",
              "  <div id=\"df-08ea3c9e-fcaa-4265-9bf3-c6e82004adf5\">\n",
              "    <div class=\"colab-df-container\">\n",
              "      <div>\n",
              "<style scoped>\n",
              "    .dataframe tbody tr th:only-of-type {\n",
              "        vertical-align: middle;\n",
              "    }\n",
              "\n",
              "    .dataframe tbody tr th {\n",
              "        vertical-align: top;\n",
              "    }\n",
              "\n",
              "    .dataframe thead th {\n",
              "        text-align: right;\n",
              "    }\n",
              "</style>\n",
              "<table border=\"1\" class=\"dataframe\">\n",
              "  <thead>\n",
              "    <tr style=\"text-align: right;\">\n",
              "      <th></th>\n",
              "      <th>Age</th>\n",
              "      <th>EstimatedSalary</th>\n",
              "    </tr>\n",
              "  </thead>\n",
              "  <tbody>\n",
              "    <tr>\n",
              "      <th>0</th>\n",
              "      <td>-1.781797</td>\n",
              "      <td>-1.490046</td>\n",
              "    </tr>\n",
              "    <tr>\n",
              "      <th>1</th>\n",
              "      <td>-0.253587</td>\n",
              "      <td>-1.460681</td>\n",
              "    </tr>\n",
              "    <tr>\n",
              "      <th>2</th>\n",
              "      <td>-1.113206</td>\n",
              "      <td>-0.785290</td>\n",
              "    </tr>\n",
              "    <tr>\n",
              "      <th>3</th>\n",
              "      <td>-1.017692</td>\n",
              "      <td>-0.374182</td>\n",
              "    </tr>\n",
              "    <tr>\n",
              "      <th>4</th>\n",
              "      <td>-1.781797</td>\n",
              "      <td>0.183751</td>\n",
              "    </tr>\n",
              "  </tbody>\n",
              "</table>\n",
              "</div>\n",
              "      <button class=\"colab-df-convert\" onclick=\"convertToInteractive('df-08ea3c9e-fcaa-4265-9bf3-c6e82004adf5')\"\n",
              "              title=\"Convert this dataframe to an interactive table.\"\n",
              "              style=\"display:none;\">\n",
              "        \n",
              "  <svg xmlns=\"http://www.w3.org/2000/svg\" height=\"24px\"viewBox=\"0 0 24 24\"\n",
              "       width=\"24px\">\n",
              "    <path d=\"M0 0h24v24H0V0z\" fill=\"none\"/>\n",
              "    <path d=\"M18.56 5.44l.94 2.06.94-2.06 2.06-.94-2.06-.94-.94-2.06-.94 2.06-2.06.94zm-11 1L8.5 8.5l.94-2.06 2.06-.94-2.06-.94L8.5 2.5l-.94 2.06-2.06.94zm10 10l.94 2.06.94-2.06 2.06-.94-2.06-.94-.94-2.06-.94 2.06-2.06.94z\"/><path d=\"M17.41 7.96l-1.37-1.37c-.4-.4-.92-.59-1.43-.59-.52 0-1.04.2-1.43.59L10.3 9.45l-7.72 7.72c-.78.78-.78 2.05 0 2.83L4 21.41c.39.39.9.59 1.41.59.51 0 1.02-.2 1.41-.59l7.78-7.78 2.81-2.81c.8-.78.8-2.07 0-2.86zM5.41 20L4 18.59l7.72-7.72 1.47 1.35L5.41 20z\"/>\n",
              "  </svg>\n",
              "      </button>\n",
              "      \n",
              "  <style>\n",
              "    .colab-df-container {\n",
              "      display:flex;\n",
              "      flex-wrap:wrap;\n",
              "      gap: 12px;\n",
              "    }\n",
              "\n",
              "    .colab-df-convert {\n",
              "      background-color: #E8F0FE;\n",
              "      border: none;\n",
              "      border-radius: 50%;\n",
              "      cursor: pointer;\n",
              "      display: none;\n",
              "      fill: #1967D2;\n",
              "      height: 32px;\n",
              "      padding: 0 0 0 0;\n",
              "      width: 32px;\n",
              "    }\n",
              "\n",
              "    .colab-df-convert:hover {\n",
              "      background-color: #E2EBFA;\n",
              "      box-shadow: 0px 1px 2px rgba(60, 64, 67, 0.3), 0px 1px 3px 1px rgba(60, 64, 67, 0.15);\n",
              "      fill: #174EA6;\n",
              "    }\n",
              "\n",
              "    [theme=dark] .colab-df-convert {\n",
              "      background-color: #3B4455;\n",
              "      fill: #D2E3FC;\n",
              "    }\n",
              "\n",
              "    [theme=dark] .colab-df-convert:hover {\n",
              "      background-color: #434B5C;\n",
              "      box-shadow: 0px 1px 3px 1px rgba(0, 0, 0, 0.15);\n",
              "      filter: drop-shadow(0px 1px 2px rgba(0, 0, 0, 0.3));\n",
              "      fill: #FFFFFF;\n",
              "    }\n",
              "  </style>\n",
              "\n",
              "      <script>\n",
              "        const buttonEl =\n",
              "          document.querySelector('#df-08ea3c9e-fcaa-4265-9bf3-c6e82004adf5 button.colab-df-convert');\n",
              "        buttonEl.style.display =\n",
              "          google.colab.kernel.accessAllowed ? 'block' : 'none';\n",
              "\n",
              "        async function convertToInteractive(key) {\n",
              "          const element = document.querySelector('#df-08ea3c9e-fcaa-4265-9bf3-c6e82004adf5');\n",
              "          const dataTable =\n",
              "            await google.colab.kernel.invokeFunction('convertToInteractive',\n",
              "                                                     [key], {});\n",
              "          if (!dataTable) return;\n",
              "\n",
              "          const docLinkHtml = 'Like what you see? Visit the ' +\n",
              "            '<a target=\"_blank\" href=https://colab.research.google.com/notebooks/data_table.ipynb>data table notebook</a>'\n",
              "            + ' to learn more about interactive tables.';\n",
              "          element.innerHTML = '';\n",
              "          dataTable['output_type'] = 'display_data';\n",
              "          await google.colab.output.renderOutput(dataTable, element);\n",
              "          const docLink = document.createElement('div');\n",
              "          docLink.innerHTML = docLinkHtml;\n",
              "          element.appendChild(docLink);\n",
              "        }\n",
              "      </script>\n",
              "    </div>\n",
              "  </div>\n",
              "  "
            ]
          },
          "metadata": {},
          "execution_count": 7
        }
      ]
    },
    {
      "cell_type": "code",
      "source": [
        "data_scaled['Purchased'] = df.Purchased\n",
        "data_scaled = data_scaled[data_scaled['Purchased'].notna()]\n",
        "data_scaled"
      ],
      "metadata": {
        "colab": {
          "base_uri": "https://localhost:8080/",
          "height": 424
        },
        "id": "3NK1WI6fK1TZ",
        "outputId": "cf390afa-9f08-4d2a-f3f2-f015480d5f9a"
      },
      "execution_count": null,
      "outputs": [
        {
          "output_type": "execute_result",
          "data": {
            "text/plain": [
              "          Age  EstimatedSalary  Purchased\n",
              "0   -1.781797        -1.490046          0\n",
              "1   -0.253587        -1.460681          0\n",
              "2   -1.113206        -0.785290          0\n",
              "3   -1.017692        -0.374182          0\n",
              "4   -1.781797         0.183751          0\n",
              "..        ...              ...        ...\n",
              "395  0.797057        -0.844019          1\n",
              "396  1.274623        -1.372587          1\n",
              "397  1.179110        -1.460681          1\n",
              "398 -0.158074        -1.078938          0\n",
              "399  1.083596        -0.990844          1\n",
              "\n",
              "[400 rows x 3 columns]"
            ],
            "text/html": [
              "\n",
              "  <div id=\"df-640dcdd5-3b38-45de-b0b0-af093b70065e\">\n",
              "    <div class=\"colab-df-container\">\n",
              "      <div>\n",
              "<style scoped>\n",
              "    .dataframe tbody tr th:only-of-type {\n",
              "        vertical-align: middle;\n",
              "    }\n",
              "\n",
              "    .dataframe tbody tr th {\n",
              "        vertical-align: top;\n",
              "    }\n",
              "\n",
              "    .dataframe thead th {\n",
              "        text-align: right;\n",
              "    }\n",
              "</style>\n",
              "<table border=\"1\" class=\"dataframe\">\n",
              "  <thead>\n",
              "    <tr style=\"text-align: right;\">\n",
              "      <th></th>\n",
              "      <th>Age</th>\n",
              "      <th>EstimatedSalary</th>\n",
              "      <th>Purchased</th>\n",
              "    </tr>\n",
              "  </thead>\n",
              "  <tbody>\n",
              "    <tr>\n",
              "      <th>0</th>\n",
              "      <td>-1.781797</td>\n",
              "      <td>-1.490046</td>\n",
              "      <td>0</td>\n",
              "    </tr>\n",
              "    <tr>\n",
              "      <th>1</th>\n",
              "      <td>-0.253587</td>\n",
              "      <td>-1.460681</td>\n",
              "      <td>0</td>\n",
              "    </tr>\n",
              "    <tr>\n",
              "      <th>2</th>\n",
              "      <td>-1.113206</td>\n",
              "      <td>-0.785290</td>\n",
              "      <td>0</td>\n",
              "    </tr>\n",
              "    <tr>\n",
              "      <th>3</th>\n",
              "      <td>-1.017692</td>\n",
              "      <td>-0.374182</td>\n",
              "      <td>0</td>\n",
              "    </tr>\n",
              "    <tr>\n",
              "      <th>4</th>\n",
              "      <td>-1.781797</td>\n",
              "      <td>0.183751</td>\n",
              "      <td>0</td>\n",
              "    </tr>\n",
              "    <tr>\n",
              "      <th>...</th>\n",
              "      <td>...</td>\n",
              "      <td>...</td>\n",
              "      <td>...</td>\n",
              "    </tr>\n",
              "    <tr>\n",
              "      <th>395</th>\n",
              "      <td>0.797057</td>\n",
              "      <td>-0.844019</td>\n",
              "      <td>1</td>\n",
              "    </tr>\n",
              "    <tr>\n",
              "      <th>396</th>\n",
              "      <td>1.274623</td>\n",
              "      <td>-1.372587</td>\n",
              "      <td>1</td>\n",
              "    </tr>\n",
              "    <tr>\n",
              "      <th>397</th>\n",
              "      <td>1.179110</td>\n",
              "      <td>-1.460681</td>\n",
              "      <td>1</td>\n",
              "    </tr>\n",
              "    <tr>\n",
              "      <th>398</th>\n",
              "      <td>-0.158074</td>\n",
              "      <td>-1.078938</td>\n",
              "      <td>0</td>\n",
              "    </tr>\n",
              "    <tr>\n",
              "      <th>399</th>\n",
              "      <td>1.083596</td>\n",
              "      <td>-0.990844</td>\n",
              "      <td>1</td>\n",
              "    </tr>\n",
              "  </tbody>\n",
              "</table>\n",
              "<p>400 rows × 3 columns</p>\n",
              "</div>\n",
              "      <button class=\"colab-df-convert\" onclick=\"convertToInteractive('df-640dcdd5-3b38-45de-b0b0-af093b70065e')\"\n",
              "              title=\"Convert this dataframe to an interactive table.\"\n",
              "              style=\"display:none;\">\n",
              "        \n",
              "  <svg xmlns=\"http://www.w3.org/2000/svg\" height=\"24px\"viewBox=\"0 0 24 24\"\n",
              "       width=\"24px\">\n",
              "    <path d=\"M0 0h24v24H0V0z\" fill=\"none\"/>\n",
              "    <path d=\"M18.56 5.44l.94 2.06.94-2.06 2.06-.94-2.06-.94-.94-2.06-.94 2.06-2.06.94zm-11 1L8.5 8.5l.94-2.06 2.06-.94-2.06-.94L8.5 2.5l-.94 2.06-2.06.94zm10 10l.94 2.06.94-2.06 2.06-.94-2.06-.94-.94-2.06-.94 2.06-2.06.94z\"/><path d=\"M17.41 7.96l-1.37-1.37c-.4-.4-.92-.59-1.43-.59-.52 0-1.04.2-1.43.59L10.3 9.45l-7.72 7.72c-.78.78-.78 2.05 0 2.83L4 21.41c.39.39.9.59 1.41.59.51 0 1.02-.2 1.41-.59l7.78-7.78 2.81-2.81c.8-.78.8-2.07 0-2.86zM5.41 20L4 18.59l7.72-7.72 1.47 1.35L5.41 20z\"/>\n",
              "  </svg>\n",
              "      </button>\n",
              "      \n",
              "  <style>\n",
              "    .colab-df-container {\n",
              "      display:flex;\n",
              "      flex-wrap:wrap;\n",
              "      gap: 12px;\n",
              "    }\n",
              "\n",
              "    .colab-df-convert {\n",
              "      background-color: #E8F0FE;\n",
              "      border: none;\n",
              "      border-radius: 50%;\n",
              "      cursor: pointer;\n",
              "      display: none;\n",
              "      fill: #1967D2;\n",
              "      height: 32px;\n",
              "      padding: 0 0 0 0;\n",
              "      width: 32px;\n",
              "    }\n",
              "\n",
              "    .colab-df-convert:hover {\n",
              "      background-color: #E2EBFA;\n",
              "      box-shadow: 0px 1px 2px rgba(60, 64, 67, 0.3), 0px 1px 3px 1px rgba(60, 64, 67, 0.15);\n",
              "      fill: #174EA6;\n",
              "    }\n",
              "\n",
              "    [theme=dark] .colab-df-convert {\n",
              "      background-color: #3B4455;\n",
              "      fill: #D2E3FC;\n",
              "    }\n",
              "\n",
              "    [theme=dark] .colab-df-convert:hover {\n",
              "      background-color: #434B5C;\n",
              "      box-shadow: 0px 1px 3px 1px rgba(0, 0, 0, 0.15);\n",
              "      filter: drop-shadow(0px 1px 2px rgba(0, 0, 0, 0.3));\n",
              "      fill: #FFFFFF;\n",
              "    }\n",
              "  </style>\n",
              "\n",
              "      <script>\n",
              "        const buttonEl =\n",
              "          document.querySelector('#df-640dcdd5-3b38-45de-b0b0-af093b70065e button.colab-df-convert');\n",
              "        buttonEl.style.display =\n",
              "          google.colab.kernel.accessAllowed ? 'block' : 'none';\n",
              "\n",
              "        async function convertToInteractive(key) {\n",
              "          const element = document.querySelector('#df-640dcdd5-3b38-45de-b0b0-af093b70065e');\n",
              "          const dataTable =\n",
              "            await google.colab.kernel.invokeFunction('convertToInteractive',\n",
              "                                                     [key], {});\n",
              "          if (!dataTable) return;\n",
              "\n",
              "          const docLinkHtml = 'Like what you see? Visit the ' +\n",
              "            '<a target=\"_blank\" href=https://colab.research.google.com/notebooks/data_table.ipynb>data table notebook</a>'\n",
              "            + ' to learn more about interactive tables.';\n",
              "          element.innerHTML = '';\n",
              "          dataTable['output_type'] = 'display_data';\n",
              "          await google.colab.output.renderOutput(dataTable, element);\n",
              "          const docLink = document.createElement('div');\n",
              "          docLink.innerHTML = docLinkHtml;\n",
              "          element.appendChild(docLink);\n",
              "        }\n",
              "      </script>\n",
              "    </div>\n",
              "  </div>\n",
              "  "
            ]
          },
          "metadata": {},
          "execution_count": 8
        }
      ]
    },
    {
      "cell_type": "code",
      "source": [
        "#loading the data\n",
        "x=data_scaled.iloc[:,:-1].values #loading the independent column values into x\n",
        "y=data_scaled.iloc[:,-1:].values #loading the dependent column values into y"
      ],
      "metadata": {
        "id": "mxBZ3OxnK3p6"
      },
      "execution_count": null,
      "outputs": []
    },
    {
      "cell_type": "code",
      "source": [
        "#spliting the data into training and testing set\n",
        "from sklearn.model_selection import train_test_split\n",
        "x_train,x_test,y_train,y_test=train_test_split(x,y,test_size=0.2,random_state=0)"
      ],
      "metadata": {
        "id": "KobUQW5VK7Qi"
      },
      "execution_count": null,
      "outputs": []
    },
    {
      "cell_type": "code",
      "source": [
        "from sklearn.naive_bayes import GaussianNB\n",
        "model=GaussianNB()\n",
        "model.fit(x_train,y_train)"
      ],
      "metadata": {
        "colab": {
          "base_uri": "https://localhost:8080/"
        },
        "id": "fdIyzAhCK-z2",
        "outputId": "56869221-f7ba-4bc9-b4c6-c1ebd60e48ca"
      },
      "execution_count": null,
      "outputs": [
        {
          "output_type": "stream",
          "name": "stderr",
          "text": [
            "/usr/local/lib/python3.7/dist-packages/sklearn/utils/validation.py:993: DataConversionWarning: A column-vector y was passed when a 1d array was expected. Please change the shape of y to (n_samples, ), for example using ravel().\n",
            "  y = column_or_1d(y, warn=True)\n"
          ]
        },
        {
          "output_type": "execute_result",
          "data": {
            "text/plain": [
              "GaussianNB()"
            ]
          },
          "metadata": {},
          "execution_count": 11
        }
      ]
    },
    {
      "cell_type": "code",
      "source": [
        "x_train"
      ],
      "metadata": {
        "colab": {
          "base_uri": "https://localhost:8080/"
        },
        "id": "o0phFZ1zLZBK",
        "outputId": "c7347801-be9c-42b8-d19e-088a6e4073d1"
      },
      "execution_count": null,
      "outputs": [
        {
          "output_type": "execute_result",
          "data": {
            "text/plain": [
              "array([[ 1.94321462,  2.18056084],\n",
              "       [ 2.03872775,  0.38930459],\n",
              "       [-1.30423178, -0.4329114 ],\n",
              "       [-1.11320552, -1.02020853],\n",
              "       [ 1.94321462, -0.93211396],\n",
              "       [ 0.41500455,  0.30121002],\n",
              "       [ 0.22397829,  0.15438573],\n",
              "       [ 2.03872775,  1.76945285],\n",
              "       [ 0.79705706, -0.84401939],\n",
              "       [ 0.31949142, -0.28608712],\n",
              "       [ 0.41500455, -0.16862769],\n",
              "       [-0.0625611 ,  2.23929055],\n",
              "       [-1.39974491, -0.63846539],\n",
              "       [-1.20871865, -1.07893824],\n",
              "       [-1.30423178,  0.41866944],\n",
              "       [-1.01769239,  0.77104772],\n",
              "       [-1.39974491, -0.19799255],\n",
              "       [ 0.98808332, -1.07893824],\n",
              "       [ 0.98808332,  0.59485858],\n",
              "       [ 0.41500455,  1.00596657],\n",
              "       [ 0.60603081, -0.9027491 ],\n",
              "       [-0.54012675,  1.47580428],\n",
              "       [ 0.03295203, -0.57973568],\n",
              "       [-0.54012675,  1.91627713],\n",
              "       [ 1.37013584, -1.43131652],\n",
              "       [ 1.46564897,  1.00596657],\n",
              "       [ 0.12846516, -0.81465453],\n",
              "       [ 0.03295203, -0.25672226],\n",
              "       [-0.15807423, -0.57973568],\n",
              "       [-0.15807423, -0.19799255],\n",
              "       [-0.25358736, -1.3138571 ],\n",
              "       [-0.25358736, -0.57973568],\n",
              "       [ 0.41500455,  0.09565602],\n",
              "       [ 0.89257019, -0.60910054],\n",
              "       [ 2.03872775, -1.19639767],\n",
              "       [ 1.08359645, -0.13926283],\n",
              "       [ 0.70154394,  1.7988177 ],\n",
              "       [-0.63563988,  0.56549373],\n",
              "       [ 0.79705706,  0.35993973],\n",
              "       [ 0.89257019, -0.55037082],\n",
              "       [-1.11320552, -1.60750566],\n",
              "       [ 2.13424088,  0.94723686],\n",
              "       [ 0.03295203,  1.24088543],\n",
              "       [ 0.22397829,  1.09406114],\n",
              "       [ 0.41500455, -0.49164111],\n",
              "       [-0.25358736, -0.31545197],\n",
              "       [ 0.98808332, -0.84401939],\n",
              "       [ 0.98808332,  1.88691227],\n",
              "       [ 0.03295203,  1.27025028],\n",
              "       [-0.82666613,  2.29802026],\n",
              "       [-1.11320552, -1.60750566],\n",
              "       [ 2.13424088, -0.81465453],\n",
              "       [-1.30423178, -1.49004624],\n",
              "       [ 0.41500455,  2.32738512],\n",
              "       [ 0.79705706,  0.77104772],\n",
              "       [-0.92217926, -0.31545197],\n",
              "       [ 0.12846516,  0.77104772],\n",
              "       [-0.92217926,  0.56549373],\n",
              "       [ 0.31949142,  0.06629116],\n",
              "       [ 0.70154394, -1.28449224],\n",
              "       [-0.44461362, -0.02180341],\n",
              "       [-1.6862843 ,  0.35993973],\n",
              "       [-0.63563988,  0.12502088],\n",
              "       [ 0.41500455,  0.30121002],\n",
              "       [-0.25358736,  0.06629116],\n",
              "       [-0.44461362,  2.32738512],\n",
              "       [ 0.22397829,  0.03692631],\n",
              "       [ 1.27462271,  2.23929055],\n",
              "       [ 0.79705706,  0.27184516],\n",
              "       [-0.25358736,  0.15438573],\n",
              "       [ 0.03295203, -0.55037082],\n",
              "       [-0.15807423,  0.15438573],\n",
              "       [-0.0625611 ,  0.2424803 ],\n",
              "       [ 0.03295203, -0.25672226],\n",
              "       [ 2.13424088,  1.123426  ],\n",
              "       [-1.6862843 ,  0.35993973],\n",
              "       [ 1.84770149,  0.12502088],\n",
              "       [ 0.41500455, -0.13926283],\n",
              "       [-1.11320552,  0.30121002],\n",
              "       [ 0.79705706,  1.38770971],\n",
              "       [-0.25358736, -0.25672226],\n",
              "       [-1.59077117, -0.05116826],\n",
              "       [-0.92217926, -0.75592482],\n",
              "       [ 0.31949142,  0.50676401],\n",
              "       [-0.0625611 , -1.07893824],\n",
              "       [-1.01769239,  0.59485858],\n",
              "       [ 0.12846516, -0.81465453],\n",
              "       [-0.92217926,  1.56389885],\n",
              "       [-0.63563988,  1.41707457],\n",
              "       [-1.20871865,  0.50676401],\n",
              "       [-0.25358736,  0.03692631],\n",
              "       [-0.0625611 ,  0.00756145],\n",
              "       [-0.25358736, -0.9027491 ],\n",
              "       [ 0.89257019, -1.37258681],\n",
              "       [-0.25358736,  2.26865541],\n",
              "       [ 0.98808332,  2.0043717 ],\n",
              "       [-1.11320552,  0.47739916],\n",
              "       [-1.20871865,  0.27184516],\n",
              "       [ 1.37013584,  2.0043717 ],\n",
              "       [ 1.27462271, -1.37258681],\n",
              "       [-0.25358736, -0.28608712],\n",
              "       [-0.44461362,  1.27025028],\n",
              "       [-0.73115301,  1.09406114],\n",
              "       [ 0.98808332, -1.07893824],\n",
              "       [ 0.31949142,  0.30121002],\n",
              "       [ 0.98808332,  0.77104772],\n",
              "       [-0.63563988, -1.51941109],\n",
              "       [-0.63563988,  0.03692631],\n",
              "       [ 0.51051768,  1.74008799],\n",
              "       [ 2.03872775,  0.18375059],\n",
              "       [-1.87731056, -0.75592482],\n",
              "       [-0.15807423,  1.41707457],\n",
              "       [ 0.41500455,  0.59485858],\n",
              "       [ 0.89257019, -1.16703281],\n",
              "       [-1.11320552, -0.78528968],\n",
              "       [ 0.22397829,  0.2424803 ],\n",
              "       [ 0.79705706, -0.31545197],\n",
              "       [ 2.03872775, -0.81465453],\n",
              "       [ 0.79705706,  0.12502088],\n",
              "       [-0.25358736,  0.62422344],\n",
              "       [-0.92217926, -0.31545197],\n",
              "       [ 0.22397829, -0.37418169],\n",
              "       [ 2.03872775,  2.15119598],\n",
              "       [ 1.84770149, -1.28449224],\n",
              "       [ 1.37013584, -0.93211396],\n",
              "       [ 0.89257019,  1.27025028],\n",
              "       [ 1.46564897,  2.15119598],\n",
              "       [-0.25358736, -1.25512738],\n",
              "       [ 1.94321462,  0.917872  ],\n",
              "       [ 0.70154394, -0.72655996],\n",
              "       [-1.39974491,  0.35993973],\n",
              "       [ 0.79705706, -1.37258681],\n",
              "       [ 0.41500455, -0.13926283],\n",
              "       [-0.92217926,  0.41866944],\n",
              "       [ 0.03295203, -0.31545197],\n",
              "       [-1.11320552,  0.41866944],\n",
              "       [-0.82666613, -1.22576253],\n",
              "       [-0.0625611 ,  0.03692631],\n",
              "       [-1.49525804, -0.4329114 ],\n",
              "       [ 0.98808332, -1.02020853],\n",
              "       [ 1.08359645, -1.22576253],\n",
              "       [ 0.03295203, -0.13926283],\n",
              "       [-1.01769239, -1.54877595],\n",
              "       [ 0.79705706, -1.22576253],\n",
              "       [ 0.98808332,  2.09246627],\n",
              "       [-1.11320552, -1.54877595],\n",
              "       [-0.25358736,  0.80041258],\n",
              "       [ 0.12846516, -0.31545197],\n",
              "       [-1.30423178, -1.25512738],\n",
              "       [-0.54012675, -1.51941109],\n",
              "       [ 0.79705706,  0.53612887],\n",
              "       [-0.25358736, -0.34481683],\n",
              "       [ 1.75218836, -0.28608712],\n",
              "       [ 0.89257019, -1.04957339],\n",
              "       [ 0.22397829,  0.06629116],\n",
              "       [-0.54012675,  0.88850715],\n",
              "       [-1.78179743, -1.43131652],\n",
              "       [-1.20871865,  0.59485858],\n",
              "       [-0.25358736,  0.53612887],\n",
              "       [-0.92217926, -1.1083031 ],\n",
              "       [ 1.17910958, -1.46068138],\n",
              "       [ 0.22397829, -0.31545197],\n",
              "       [ 1.17910958, -0.75592482],\n",
              "       [-0.25358736,  0.06629116],\n",
              "       [ 0.22397829,  2.12183112],\n",
              "       [ 0.79705706, -1.1083031 ],\n",
              "       [ 0.12846516,  0.03692631],\n",
              "       [-1.6862843 ,  0.12502088],\n",
              "       [-0.82666613,  0.15438573],\n",
              "       [-0.63563988,  0.18375059],\n",
              "       [ 0.89257019, -1.3138571 ],\n",
              "       [ 0.22397829, -0.25672226],\n",
              "       [-0.34910049,  1.24088543],\n",
              "       [ 0.03295203,  0.30121002],\n",
              "       [ 0.41500455,  0.15438573],\n",
              "       [ 0.89257019, -0.66783025],\n",
              "       [ 0.12846516,  0.15438573],\n",
              "       [-1.78179743, -1.3138571 ],\n",
              "       [-0.0625611 ,  0.30121002],\n",
              "       [-0.15807423, -0.28608712],\n",
              "       [ 0.31949142, -0.52100597],\n",
              "       [-0.15807423,  1.62262856],\n",
              "       [ 0.98808332, -1.19639767],\n",
              "       [-0.15807423,  1.65199342],\n",
              "       [ 1.27462271,  1.88691227],\n",
              "       [-1.01769239, -0.37418169],\n",
              "       [ 0.03295203,  0.03692631],\n",
              "       [ 0.12846516, -0.25672226],\n",
              "       [-1.49525804, -1.25512738],\n",
              "       [-0.44461362, -0.28608712],\n",
              "       [ 0.98808332,  0.12502088],\n",
              "       [ 1.94321462, -1.37258681],\n",
              "       [ 1.46564897,  0.06629116],\n",
              "       [-0.54012675,  1.38770971],\n",
              "       [ 1.5611621 ,  0.00756145],\n",
              "       [-0.73115301,  0.30121002],\n",
              "       [ 1.94321462,  0.74168287],\n",
              "       [-1.11320552, -0.52100597],\n",
              "       [ 0.70154394,  0.27184516],\n",
              "       [-1.30423178, -0.4329114 ],\n",
              "       [ 0.22397829,  0.15438573],\n",
              "       [-0.44461362, -1.22576253],\n",
              "       [ 0.60603081,  2.03373655],\n",
              "       [-1.49525804, -1.51941109],\n",
              "       [-0.44461362, -0.55037082],\n",
              "       [ 0.51051768,  1.85754742],\n",
              "       [-1.30423178, -1.1083031 ],\n",
              "       [ 0.79705706, -1.40195167],\n",
              "       [-0.25358736, -0.4329114 ],\n",
              "       [ 1.5611621 ,  1.00596657],\n",
              "       [ 0.98808332,  1.44643942],\n",
              "       [-0.25358736, -0.49164111],\n",
              "       [-0.0625611 ,  2.18056084],\n",
              "       [-1.39974491, -0.10989798],\n",
              "       [-0.0625611 ,  1.97500684],\n",
              "       [-0.63563988, -0.34481683],\n",
              "       [-0.44461362, -0.84401939],\n",
              "       [ 0.70154394, -1.40195167],\n",
              "       [-0.73115301, -1.60750566],\n",
              "       [-1.78179743, -1.49004624],\n",
              "       [ 1.08359645,  0.12502088],\n",
              "       [ 0.12846516,  1.53453399],\n",
              "       [-0.25358736,  0.09565602],\n",
              "       [ 0.12846516,  0.03692631],\n",
              "       [-1.30423178, -1.37258681],\n",
              "       [ 0.31949142,  0.06629116],\n",
              "       [-0.82666613,  0.38930459],\n",
              "       [ 1.5611621 , -1.28449224],\n",
              "       [-0.25358736, -0.75592482],\n",
              "       [-0.0625611 ,  0.15438573],\n",
              "       [-0.82666613, -0.66783025],\n",
              "       [-0.63563988, -0.05116826],\n",
              "       [ 0.41500455, -0.46227625],\n",
              "       [-0.73115301,  1.91627713],\n",
              "       [ 1.37013584,  1.29961514],\n",
              "       [ 1.17910958, -0.99084367],\n",
              "       [ 1.75218836,  1.85754742],\n",
              "       [-0.82666613, -0.25672226],\n",
              "       [-0.73115301,  0.56549373],\n",
              "       [-1.11320552, -1.5781408 ],\n",
              "       [-0.44461362, -1.13766796],\n",
              "       [ 0.31949142,  0.06629116],\n",
              "       [-0.15807423, -1.07893824],\n",
              "       [ 1.65667523,  1.62262856],\n",
              "       [ 0.98808332,  1.7988177 ],\n",
              "       [ 0.31949142,  0.03692631],\n",
              "       [-0.73115301, -0.2273574 ],\n",
              "       [-0.0625611 ,  0.06629116],\n",
              "       [ 0.31949142, -0.19799255],\n",
              "       [ 1.94321462, -0.66783025],\n",
              "       [-0.73115301,  1.35834485],\n",
              "       [-1.6862843 , -0.60910054],\n",
              "       [-0.0625611 ,  0.12502088],\n",
              "       [ 0.31949142, -0.31545197],\n",
              "       [ 1.08359645,  0.56549373],\n",
              "       [-0.92217926,  0.27184516],\n",
              "       [ 1.46564897,  0.35993973],\n",
              "       [ 0.22397829, -0.37418169],\n",
              "       [ 2.13424088, -1.04957339],\n",
              "       [-0.25358736,  1.123426  ],\n",
              "       [-1.59077117,  0.06629116],\n",
              "       [ 0.03295203,  0.03692631],\n",
              "       [ 0.12846516,  1.06469629],\n",
              "       [-0.0625611 , -0.37418169],\n",
              "       [-1.11320552,  0.06629116],\n",
              "       [-0.25358736, -1.37258681],\n",
              "       [ 1.5611621 ,  1.123426  ],\n",
              "       [-0.73115301, -1.54877595],\n",
              "       [ 0.12846516,  1.88691227],\n",
              "       [-0.82666613, -0.78528968],\n",
              "       [-0.44461362, -0.78528968],\n",
              "       [-0.25358736, -0.93211396],\n",
              "       [ 0.31949142, -0.72655996],\n",
              "       [ 0.31949142,  0.06629116],\n",
              "       [ 0.12846516,  1.88691227],\n",
              "       [-1.01769239,  1.97500684],\n",
              "       [-1.59077117, -1.5781408 ],\n",
              "       [-1.11320552, -1.1083031 ],\n",
              "       [-0.63563988, -0.10989798],\n",
              "       [ 0.12846516,  0.09565602],\n",
              "       [ 0.31949142,  0.27184516],\n",
              "       [ 0.89257019, -0.57973568],\n",
              "       [ 0.31949142, -1.16703281],\n",
              "       [-0.0625611 ,  0.68295315],\n",
              "       [ 2.13424088, -0.69719511],\n",
              "       [-1.20871865, -1.40195167],\n",
              "       [-0.92217926, -0.96147882],\n",
              "       [ 0.03295203, -0.4329114 ],\n",
              "       [-0.15807423, -0.46227625],\n",
              "       [-1.6862843 , -0.99084367],\n",
              "       [ 1.75218836,  1.00596657],\n",
              "       [ 0.22397829, -0.37418169],\n",
              "       [ 0.41500455,  1.123426  ],\n",
              "       [-1.6862843 , -1.37258681],\n",
              "       [ 0.22397829, -0.13926283],\n",
              "       [ 0.89257019, -1.46068138],\n",
              "       [-1.87731056,  0.47739916],\n",
              "       [-0.25358736,  0.27184516],\n",
              "       [ 1.84770149, -1.07893824],\n",
              "       [-0.34910049,  0.06629116],\n",
              "       [ 1.08359645, -0.9027491 ],\n",
              "       [-1.01769239, -1.13766796],\n",
              "       [-1.78179743,  0.00756145],\n",
              "       [ 0.12846516,  0.27184516],\n",
              "       [-1.11320552,  0.33057487],\n",
              "       [-1.20871865,  0.30121002],\n",
              "       [-0.92217926,  0.4480343 ],\n",
              "       [ 1.65667523, -0.9027491 ],\n",
              "       [ 1.17910958,  0.53612887],\n",
              "       [ 1.08359645,  0.53612887],\n",
              "       [ 1.37013584,  2.35674998],\n",
              "       [-0.25358736, -0.13926283],\n",
              "       [ 0.41500455, -0.46227625],\n",
              "       [-0.34910049, -0.78528968],\n",
              "       [-0.0625611 , -0.52100597],\n",
              "       [ 0.98808332, -1.16703281],\n",
              "       [-0.82666613, -0.78528968],\n",
              "       [-0.15807423, -0.52100597],\n",
              "       [-1.01769239, -0.46227625],\n",
              "       [-1.11320552,  1.41707457]])"
            ]
          },
          "metadata": {},
          "execution_count": 12
        }
      ]
    },
    {
      "cell_type": "code",
      "source": [
        "y_pred=model.predict(x_test)\n",
        "y_pred"
      ],
      "metadata": {
        "colab": {
          "base_uri": "https://localhost:8080/"
        },
        "id": "Y9QOh_07LeAy",
        "outputId": "20129ec9-b951-4e04-bc41-666abe22918c"
      },
      "execution_count": null,
      "outputs": [
        {
          "output_type": "execute_result",
          "data": {
            "text/plain": [
              "array([0, 0, 0, 0, 0, 0, 0, 1, 0, 1, 0, 0, 0, 0, 0, 1, 0, 0, 1, 0, 0, 1,\n",
              "       0, 1, 0, 1, 0, 0, 0, 0, 0, 0, 1, 0, 0, 0, 0, 0, 0, 1, 0, 0, 0, 0,\n",
              "       1, 0, 0, 1, 0, 1, 1, 0, 0, 1, 1, 0, 0, 0, 1, 0, 0, 1, 0, 0, 0, 1,\n",
              "       0, 0, 0, 0, 1, 0, 0, 0, 0, 0, 0, 0, 1, 1])"
            ]
          },
          "metadata": {},
          "execution_count": 13
        }
      ]
    },
    {
      "cell_type": "code",
      "source": [
        "print(\"Predicted value for training data:\",model.score(x_train,y_train))\n",
        "print(\"Training accuracy:\",model.score(x_train,y_train)*100)"
      ],
      "metadata": {
        "colab": {
          "base_uri": "https://localhost:8080/"
        },
        "id": "evirkT7ZLjjd",
        "outputId": "575ba3b2-d5e1-4fa8-e06b-c1cf47598cf4"
      },
      "execution_count": null,
      "outputs": [
        {
          "output_type": "stream",
          "name": "stdout",
          "text": [
            "Predicted value for training data: 0.884375\n",
            "Training accuracy: 88.4375\n"
          ]
        }
      ]
    },
    {
      "cell_type": "code",
      "source": [
        "print(\"Predicted value for testing data:\",model.score(x_test,y_test))\n",
        "print(\"Testing accuracy:\",model.score(x_test,y_test)*100)"
      ],
      "metadata": {
        "colab": {
          "base_uri": "https://localhost:8080/"
        },
        "id": "wTNiS_dELmwg",
        "outputId": "cd045952-14e0-4f37-ac3e-53d538c0dade"
      },
      "execution_count": null,
      "outputs": [
        {
          "output_type": "stream",
          "name": "stdout",
          "text": [
            "Predicted value for testing data: 0.9125\n",
            "Testing accuracy: 91.25\n"
          ]
        }
      ]
    },
    {
      "cell_type": "code",
      "source": [
        "accuracy=model.score(x,y)*100\n",
        "print(accuracy)"
      ],
      "metadata": {
        "colab": {
          "base_uri": "https://localhost:8080/"
        },
        "id": "Vw9ZewCSLot2",
        "outputId": "4d655349-eb06-4da6-f379-182bee11702b"
      },
      "execution_count": null,
      "outputs": [
        {
          "output_type": "stream",
          "name": "stdout",
          "text": [
            "89.0\n"
          ]
        }
      ]
    },
    {
      "cell_type": "code",
      "source": [
        "#converting 2D array to 1D array\n",
        "#\n",
        "y_train=y_train.flatten()"
      ],
      "metadata": {
        "id": "JugN1ItrL1y1"
      },
      "execution_count": null,
      "outputs": []
    },
    {
      "cell_type": "code",
      "source": [
        "y_train"
      ],
      "metadata": {
        "colab": {
          "base_uri": "https://localhost:8080/"
        },
        "id": "jHQKVLt3R95u",
        "outputId": "f2890229-93d6-4ace-d5ba-c2fb2adbbbde"
      },
      "execution_count": null,
      "outputs": [
        {
          "output_type": "execute_result",
          "data": {
            "text/plain": [
              "array([1, 0, 0, 0, 1, 1, 0, 1, 1, 0, 0, 1, 0, 0, 0, 1, 0, 1, 1, 1, 0, 1,\n",
              "       0, 1, 1, 1, 0, 0, 0, 0, 0, 0, 1, 1, 1, 0, 1, 0, 0, 1, 0, 1, 0, 1,\n",
              "       0, 0, 1, 1, 1, 1, 0, 1, 0, 1, 0, 0, 1, 0, 0, 1, 0, 0, 0, 0, 0, 1,\n",
              "       1, 1, 1, 0, 0, 0, 1, 0, 1, 0, 1, 0, 0, 1, 0, 0, 0, 1, 0, 0, 0, 1,\n",
              "       1, 0, 0, 1, 0, 1, 1, 1, 0, 0, 1, 1, 0, 0, 1, 1, 0, 1, 0, 0, 1, 1,\n",
              "       0, 1, 1, 1, 0, 0, 0, 0, 0, 1, 0, 0, 1, 1, 1, 1, 1, 0, 1, 1, 0, 1,\n",
              "       0, 0, 0, 0, 0, 0, 0, 1, 1, 0, 0, 1, 0, 0, 1, 0, 0, 0, 1, 0, 1, 1,\n",
              "       0, 1, 0, 0, 0, 0, 1, 0, 0, 0, 1, 1, 0, 0, 0, 0, 1, 0, 1, 0, 0, 0,\n",
              "       1, 0, 0, 0, 0, 1, 1, 1, 0, 0, 0, 0, 0, 0, 1, 1, 1, 1, 1, 0, 1, 0,\n",
              "       0, 0, 0, 0, 1, 0, 0, 0, 0, 0, 0, 1, 1, 0, 1, 0, 1, 0, 0, 1, 0, 0,\n",
              "       0, 1, 0, 0, 0, 0, 0, 1, 0, 0, 0, 0, 0, 1, 0, 1, 1, 0, 0, 0, 0, 0,\n",
              "       0, 1, 1, 0, 0, 0, 0, 1, 0, 0, 0, 0, 1, 0, 1, 0, 1, 0, 0, 0, 1, 0,\n",
              "       0, 0, 1, 0, 1, 0, 0, 0, 0, 0, 1, 1, 0, 0, 0, 0, 0, 1, 0, 1, 1, 0,\n",
              "       0, 0, 0, 0, 1, 0, 1, 0, 0, 1, 0, 0, 1, 0, 1, 0, 0, 0, 0, 0, 0, 1,\n",
              "       1, 1, 1, 0, 0, 0, 0, 1, 0, 0, 0, 0])"
            ]
          },
          "metadata": {},
          "execution_count": 18
        }
      ]
    },
    {
      "cell_type": "code",
      "source": [
        "#visulization\n",
        "from matplotlib.colors import ListedColormap\n",
        "X_set, y_set = sc.inverse_transform(x_train), y_train\n",
        "\n",
        "X1, X2 = np.meshgrid(np.arange(start = X_set[:, 0].min() - 10, stop = X_set[:, 0].max() + 10, step = 1),\n",
        "\n",
        "np.arange(start = X_set[:, 1].min() - 1000, stop = X_set[:, 1].max() + 1000, step = 1))\n",
        "\n",
        "plt.contourf(X1, X2, model.predict(sc.transform(np.array([X1.ravel(), X2.ravel()]).T)).reshape(X1.shape),\n",
        "\n",
        "alpha = 0.75, cmap = ListedColormap(('red', 'green')))\n",
        "\n",
        "plt.xlim(X1.min(), X1.max())\n",
        "\n",
        "plt.ylim(X2.min(), X2.max())\n",
        "\n",
        "for i, j in enumerate(np.unique(y_set)):\n",
        "\n",
        "  plt.scatter(X_set[y_set == j, 0], X_set[y_set == j, 1], c = ListedColormap(('red', 'green'))(i), label = j)\n",
        "\n",
        "plt.title('NAIVE_BAYES (Training set)')\n",
        "\n",
        "plt.xlabel('Age')\n",
        "\n",
        "plt.ylabel('Estimated Salary')\n",
        "\n",
        "plt.legend()\n",
        "\n",
        "plt.show()"
      ],
      "metadata": {
        "colab": {
          "base_uri": "https://localhost:8080/",
          "height": 350
        },
        "id": "PF4eek5gLrk3",
        "outputId": "e3eb20d6-0f33-4b5b-815b-4c98e285f9f2"
      },
      "execution_count": null,
      "outputs": [
        {
          "output_type": "stream",
          "name": "stderr",
          "text": [
            "*c* argument looks like a single numeric RGB or RGBA sequence, which should be avoided as value-mapping will have precedence in case its length matches with *x* & *y*.  Please use the *color* keyword-argument or provide a 2-D array with a single row if you intend to specify the same RGB or RGBA value for all points.\n",
            "*c* argument looks like a single numeric RGB or RGBA sequence, which should be avoided as value-mapping will have precedence in case its length matches with *x* & *y*.  Please use the *color* keyword-argument or provide a 2-D array with a single row if you intend to specify the same RGB or RGBA value for all points.\n"
          ]
        },
        {
          "output_type": "display_data",
          "data": {
            "text/plain": [
              "<Figure size 432x288 with 1 Axes>"
            ],
            "image/png": "[encoded data removed]"
          },
          "metadata": {
            "needs_background": "light"
          }
        }
      ]
    },
    {
      "cell_type": "code",
      "source": [
        "from sklearn.metrics import confusion_matrix,accuracy_score\n",
        "cm=confusion_matrix(y_train,model.predict(x_train))\n",
        "print(cm)\n",
        "\n",
        "#TN FP\n",
        "#FN TP"
      ],
      "metadata": {
        "colab": {
          "base_uri": "https://localhost:8080/"
        },
        "id": "0W1R_1vAoGaN",
        "outputId": "2c064f7f-d874-4970-faf3-55a0f1539a58"
      },
      "execution_count": null,
      "outputs": [
        {
          "output_type": "stream",
          "name": "stdout",
          "text": [
            "[[183  16]\n",
            " [ 21 100]]\n"
          ]
        }
      ]
    },
    {
      "cell_type": "code",
      "source": [
        "y_test=y_test.flatten()"
      ],
      "metadata": {
        "id": "Blf4WbsZSrOY"
      },
      "execution_count": null,
      "outputs": []
    },
    {
      "cell_type": "code",
      "source": [
        "#visulization\n",
        "from matplotlib.colors import ListedColormap\n",
        "X_set, y_set = sc.inverse_transform(x_test), y_test\n",
        "\n",
        "X1, X2 = np.meshgrid(np.arange(start = X_set[:, 0].min() - 10, stop = X_set[:, 0].max() + 10, step = 1),\n",
        "\n",
        "np.arange(start = X_set[:, 1].min() - 1000, stop = X_set[:, 1].max() + 1000, step = 1))\n",
        "\n",
        "plt.contourf(X1, X2, model.predict(sc.transform(np.array([X1.ravel(), X2.ravel()]).T)).reshape(X1.shape),\n",
        "\n",
        "alpha = 0.75, cmap = ListedColormap(('red', 'green')))\n",
        "\n",
        "plt.xlim(X1.min(), X1.max())\n",
        "\n",
        "plt.ylim(X2.min(), X2.max())\n",
        "\n",
        "for i, j in enumerate(np.unique(y_set)):\n",
        "\n",
        "  plt.scatter(X_set[y_set == j, 0], X_set[y_set == j, 1], c = ListedColormap(('red', 'green'))(i), label = j)\n",
        "\n",
        "plt.title('NAIVE_BAYES (Testing set)')\n",
        "\n",
        "plt.xlabel('Age')\n",
        "\n",
        "plt.ylabel('Estimated Salary')\n",
        "\n",
        "plt.legend()\n",
        "\n",
        "plt.show()"
      ],
      "metadata": {
        "colab": {
          "base_uri": "https://localhost:8080/",
          "height": 350
        },
        "id": "XmvfizaGSasp",
        "outputId": "0bd0252d-29e3-4d1d-fc20-c5af2a2c95ba"
      },
      "execution_count": null,
      "outputs": [
        {
          "output_type": "stream",
          "name": "stderr",
          "text": [
            "*c* argument looks like a single numeric RGB or RGBA sequence, which should be avoided as value-mapping will have precedence in case its length matches with *x* & *y*.  Please use the *color* keyword-argument or provide a 2-D array with a single row if you intend to specify the same RGB or RGBA value for all points.\n",
            "*c* argument looks like a single numeric RGB or RGBA sequence, which should be avoided as value-mapping will have precedence in case its length matches with *x* & *y*.  Please use the *color* keyword-argument or provide a 2-D array with a single row if you intend to specify the same RGB or RGBA value for all points.\n"
          ]
        },
        {
          "output_type": "display_data",
          "data": {
            "text/plain": [
              "<Figure size 432x288 with 1 Axes>"
            ],
            "image/png": "[encoded data removed]"
          },
          "metadata": {
            "needs_background": "light"
          }
        }
      ]
    },
    {
      "cell_type": "code",
      "source": [
        "from sklearn.metrics import confusion_matrix,accuracy_score\n",
        "cm=confusion_matrix(y_test,y_pred)\n",
        "print(cm)\n",
        "accuracy_score(y_test,y_pred)\n",
        "#TN FP\n",
        "#FN TP"
      ],
      "metadata": {
        "colab": {
          "base_uri": "https://localhost:8080/"
        },
        "id": "_ZxEK67HTrXB",
        "outputId": "66a70861-7402-46df-b2ec-11dc244764c7"
      },
      "execution_count": null,
      "outputs": [
        {
          "output_type": "stream",
          "name": "stdout",
          "text": [
            "[[55  3]\n",
            " [ 4 18]]\n"
          ]
        },
        {
          "output_type": "execute_result",
          "data": {
            "text/plain": [
              "0.9125"
            ]
          },
          "metadata": {},
          "execution_count": 23
        }
      ]
    },
    {
      "cell_type": "code",
      "source": [
        " #DECISION TREE\n",
        " from sklearn.tree import DecisionTreeClassifier\n",
        " tree=DecisionTreeClassifier()\n",
        " tree.fit(x_train,y_train)"
      ],
      "metadata": {
        "colab": {
          "base_uri": "https://localhost:8080/"
        },
        "id": "0Icrh73qLvvg",
        "outputId": "2956ed91-8ff2-4c3e-a6b2-49694eafa74a"
      },
      "execution_count": null,
      "outputs": [
        {
          "output_type": "execute_result",
          "data": {
            "text/plain": [
              "DecisionTreeClassifier()"
            ]
          },
          "metadata": {},
          "execution_count": 24
        }
      ]
    },
    {
      "cell_type": "code",
      "source": [
        "print('predicted training data',tree.score(x_train,y_train))\n",
        "print('predicted testing data',tree.score(x_test,y_test))\n"
      ],
      "metadata": {
        "colab": {
          "base_uri": "https://localhost:8080/"
        },
        "id": "Yyknodu3l02B",
        "outputId": "2640aa0d-d1af-4e5d-c19b-e6d89bf3cc98"
      },
      "execution_count": null,
      "outputs": [
        {
          "output_type": "stream",
          "name": "stdout",
          "text": [
            "predicted training data 0.996875\n",
            "predicted testing data 0.9\n"
          ]
        }
      ]
    },
    {
      "cell_type": "code",
      "source": [
        "accuracy=tree.score(x,y)*100\n",
        "print(accuracy)"
      ],
      "metadata": {
        "colab": {
          "base_uri": "https://localhost:8080/"
        },
        "id": "h2KSZ9Fvma6q",
        "outputId": "d9c9942f-d283-47ac-f940-0dc88331d105"
      },
      "execution_count": null,
      "outputs": [
        {
          "output_type": "stream",
          "name": "stdout",
          "text": [
            "97.75\n"
          ]
        }
      ]
    },
    {
      "cell_type": "code",
      "source": [
        "#SVM\n",
        "from sklearn.svm import SVC\n",
        "svm_clf=SVC()\n",
        "svm_clf.fit(x_train,y_train)"
      ],
      "metadata": {
        "colab": {
          "base_uri": "https://localhost:8080/"
        },
        "id": "eicoh-vZmkQO",
        "outputId": "3461c013-18b0-436a-88e5-62356307fa1d"
      },
      "execution_count": null,
      "outputs": [
        {
          "output_type": "execute_result",
          "data": {
            "text/plain": [
              "SVC()"
            ]
          },
          "metadata": {},
          "execution_count": 27
        }
      ]
    },
    {
      "cell_type": "code",
      "source": [
        "print('predicted training data',svm_clf.score(x_train,y_train))\n",
        "print('predicted testing data',svm_clf.score(x_test,y_test))"
      ],
      "metadata": {
        "colab": {
          "base_uri": "https://localhost:8080/"
        },
        "id": "dRfy0oiXyfqu",
        "outputId": "199354c2-dd88-4f30-e3c6-0d6a7eac664f"
      },
      "execution_count": null,
      "outputs": [
        {
          "output_type": "stream",
          "name": "stdout",
          "text": [
            "predicted training data 0.903125\n",
            "predicted testing data 0.95\n"
          ]
        }
      ]
    },
    {
      "cell_type": "code",
      "source": [
        "accuracy=svm_clf.score(x,y)*100\n",
        "print(accuracy)"
      ],
      "metadata": {
        "colab": {
          "base_uri": "https://localhost:8080/"
        },
        "id": "-QD2a3nSyi_0",
        "outputId": "c86bcae9-8dd7-4c74-8b53-6c625d717ff9"
      },
      "execution_count": null,
      "outputs": [
        {
          "output_type": "stream",
          "name": "stdout",
          "text": [
            "91.25\n"
          ]
        }
      ]
    },
    {
      "cell_type": "code",
      "source": [
        "#RANDOM FOREST\n",
        "from sklearn.ensemble import RandomForestClassifier\n",
        "forest=RandomForestClassifier()\n",
        "forest.fit(x_train,y_train)"
      ],
      "metadata": {
        "colab": {
          "base_uri": "https://localhost:8080/"
        },
        "id": "d9NrcUXhykxu",
        "outputId": "12793fc6-ef64-4566-ad6d-efdcb7bcf950"
      },
      "execution_count": null,
      "outputs": [
        {
          "output_type": "execute_result",
          "data": {
            "text/plain": [
              "RandomForestClassifier()"
            ]
          },
          "metadata": {},
          "execution_count": 30
        }
      ]
    },
    {
      "cell_type": "code",
      "source": [
        "print('predicted training data',forest.score(x_train,y_train))\n",
        "print('predicted testing data',forest.score(x_test,y_test))"
      ],
      "metadata": {
        "colab": {
          "base_uri": "https://localhost:8080/"
        },
        "id": "8-BhEsBYzFTw",
        "outputId": "b27ea058-c4c6-472f-8b77-dff5da78b447"
      },
      "execution_count": null,
      "outputs": [
        {
          "output_type": "stream",
          "name": "stdout",
          "text": [
            "predicted training data 0.996875\n",
            "predicted testing data 0.925\n"
          ]
        }
      ]
    },
    {
      "cell_type": "code",
      "source": [
        "accuracy=forest.score(x,y)*100\n",
        "print(accuracy)"
      ],
      "metadata": {
        "colab": {
          "base_uri": "https://localhost:8080/"
        },
        "id": "Fw44B8G_zj40",
        "outputId": "6c6b6a5c-30bf-44e2-e51d-37c87590adfe"
      },
      "execution_count": null,
      "outputs": [
        {
          "output_type": "stream",
          "name": "stdout",
          "text": [
            "98.25\n"
          ]
        }
      ]
    },
    {
      "cell_type": "code",
      "source": [
        "#KNN\n",
        "from sklearn.neighbors import KNeighborsClassifier\n",
        "model1=KNeighborsClassifier()\n",
        "model1.fit(x_train,y_train)"
      ],
      "metadata": {
        "colab": {
          "base_uri": "https://localhost:8080/"
        },
        "id": "3Cg9TieZ2nRm",
        "outputId": "2b7e7c40-d3d0-475c-aa63-aa89f33ddad3"
      },
      "execution_count": null,
      "outputs": [
        {
          "output_type": "execute_result",
          "data": {
            "text/plain": [
              "KNeighborsClassifier()"
            ]
          },
          "metadata": {},
          "execution_count": 33
        }
      ]
    },
    {
      "cell_type": "code",
      "source": [
        "print(\"Predicted value for training data:\",model1.score(x_train,y_train))\n",
        "print(\"Predicted value for testing data:\",model1.score(x_test,y_test))"
      ],
      "metadata": {
        "colab": {
          "base_uri": "https://localhost:8080/"
        },
        "id": "oCTFkO-s25l9",
        "outputId": "f8d28c91-7116-4bc3-f71e-1c8474852b39"
      },
      "execution_count": null,
      "outputs": [
        {
          "output_type": "stream",
          "name": "stdout",
          "text": [
            "Predicted value for training data: 0.91875\n",
            "Predicted value for testing data: 0.95\n"
          ]
        }
      ]
    },
    {
      "cell_type": "code",
      "source": [
        "accuracy=model1.score(x,y)*100\n",
        "print(accuracy)"
      ],
      "metadata": {
        "colab": {
          "base_uri": "https://localhost:8080/"
        },
        "id": "O_atOrHl3C65",
        "outputId": "1a3c1aaf-0623-4aa4-ca34-231f00aba32b"
      },
      "execution_count": null,
      "outputs": [
        {
          "output_type": "stream",
          "name": "stdout",
          "text": [
            "92.5\n"
          ]
        }
      ]
    },
    {
      "cell_type": "code",
      "source": [
        "#logistic\n",
        "from sklearn.linear_model import LogisticRegression\n",
        "model2=LogisticRegression()\n",
        "model2.fit(x_train,y_train)"
      ],
      "metadata": {
        "colab": {
          "base_uri": "https://localhost:8080/"
        },
        "id": "Q-dy66uu3N5E",
        "outputId": "c5a9be14-edbc-4b98-9bbf-2a626f76a00a"
      },
      "execution_count": null,
      "outputs": [
        {
          "output_type": "execute_result",
          "data": {
            "text/plain": [
              "LogisticRegression()"
            ]
          },
          "metadata": {},
          "execution_count": 36
        }
      ]
    },
    {
      "cell_type": "code",
      "source": [
        "print(\"Predicted value for training data:\",model2.score(x_train,y_train))\n",
        "print(\"Predicted value for testing data:\",model2.score(x_test,y_test))"
      ],
      "metadata": {
        "colab": {
          "base_uri": "https://localhost:8080/"
        },
        "id": "f8vwRLfq3gYu",
        "outputId": "1f740942-93fe-401f-a782-e98bc5c1936f"
      },
      "execution_count": null,
      "outputs": [
        {
          "output_type": "stream",
          "name": "stdout",
          "text": [
            "Predicted value for training data: 0.821875\n",
            "Predicted value for testing data: 0.925\n"
          ]
        }
      ]
    },
    {
      "cell_type": "code",
      "source": [
        "accuracy=model2.score(x,y)*100\n",
        "print(accuracy)"
      ],
      "metadata": {
        "colab": {
          "base_uri": "https://localhost:8080/"
        },
        "id": "1LX9ltir31SQ",
        "outputId": "145132fb-715d-4e4a-ff02-01e6ee5e8203"
      },
      "execution_count": null,
      "outputs": [
        {
          "output_type": "stream",
          "name": "stdout",
          "text": [
            "84.25\n"
          ]
        }
      ]
    },
    {
      "cell_type": "code",
      "source": [
        "#Naive bayes\n",
        "from sklearn.naive_bayes import GaussianNB\n",
        "model=GaussianNB()\n",
        "model.fit(x_train,y_train)"
      ],
      "metadata": {
        "colab": {
          "base_uri": "https://localhost:8080/"
        },
        "id": "iTScL5Ab5qCO",
        "outputId": "6ad72469-8b21-4584-aaad-15ff3eff5ed9"
      },
      "execution_count": null,
      "outputs": [
        {
          "output_type": "execute_result",
          "data": {
            "text/plain": [
              "GaussianNB()"
            ]
          },
          "metadata": {},
          "execution_count": 39
        }
      ]
    },
    {
      "cell_type": "code",
      "source": [
        "import matplotlib.pyplot as plt\n",
        "\n",
        "fig = plt.figure()\n",
        "\n",
        "ax = fig.add_axes([1,1,1,1])\n",
        "\n",
        "algo = ['Logistic regression','KNN','Naive Bayes','SVM','Descision Tree','Random Forest']\n",
        "\n",
        "accuracy = [model2.score(x,y),model1.score(x,y),model.score(x,y),svm_clf.score(x,y),tree.score(x,y),forest.score(x,y)]\n",
        "\n",
        "ax.bar(algo[0],accuracy[0],color = 'g')\n",
        "ax.bar(algo[1],accuracy[1],color = 'b')\n",
        "ax.bar(algo[2],accuracy[2],color = 'y')\n",
        "ax.bar(algo[3],accuracy[3],color = 'orange')\n",
        "ax.bar(algo[4],accuracy[4],color = 'red')\n",
        "ax.bar(algo[5],accuracy[5],color = 'black')\n",
        "\n",
        "plt.xlabel('Classifiers ----->')\n",
        "plt.ylabel('Accuracies ---->')\n",
        "plt.title('ACCURACIES RESULTED')\n",
        "plt.show()"
      ],
      "metadata": {
        "colab": {
          "base_uri": "https://localhost:8080/",
          "height": 366
        },
        "id": "7rTuMv_SytVT",
        "outputId": "96d3594b-3db6-45bd-e548-92809ef4248c"
      },
      "execution_count": null,
      "outputs": [
        {
          "output_type": "display_data",
          "data": {
            "text/plain": [
              "<Figure size 432x288 with 1 Axes>"
            ],
            "image/png": "[encoded data removed]"
          },
          "metadata": {
            "needs_background": "light"
          }
        }
      ]
    },
    {
      "cell_type": "code",
      "source": [
        ""
      ],
      "metadata": {
        "id": "hGF3rdcXztrp"
      },
      "execution_count": null,
      "outputs": []
    }
  ]
}