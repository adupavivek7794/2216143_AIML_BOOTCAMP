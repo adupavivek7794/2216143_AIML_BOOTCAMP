{
  "nbformat": 4,
  "nbformat_minor": 0,
  "metadata": {
    "colab": {
      "name": "DAY-2 -2216143.ipynb",
      "provenance": []
    },
    "kernelspec": {
      "name": "python3",
      "display_name": "Python 3"
    },
    "language_info": {
      "name": "python"
    }
  },
  "cells": [
    {
      "cell_type": "code",
      "execution_count": null,
      "metadata": {
        "colab": {
          "base_uri": "https://localhost:8080/"
        },
        "id": "anYw4PZQJ2cs",
        "outputId": "08069175-6bb7-4a01-f66b-01bd95e6d478"
      },
      "outputs": [
        {
          "output_type": "stream",
          "name": "stdout",
          "text": [
            "true\n",
            "100\n"
          ]
        }
      ],
      "source": [
        "#if statement\n",
        "num=100\n",
        "if num>0:\n",
        "  print(\"true\")\n",
        "  print(num)"
      ]
    },
    {
      "cell_type": "code",
      "source": [
        "num=0\n",
        "if num>0:\n",
        "  print(\"true\")\n",
        "  print(num)"
      ],
      "metadata": {
        "id": "1OdJMxBBKkzT"
      },
      "execution_count": null,
      "outputs": []
    },
    {
      "cell_type": "code",
      "source": [
        "#if else statement\n",
        "a=-1\n",
        "if a>0:\n",
        "  print(\"GREATER\")\n",
        "  print(a)\n",
        "else:\n",
        "  print(\"LESSER\")\n",
        "  print(a)"
      ],
      "metadata": {
        "colab": {
          "base_uri": "https://localhost:8080/"
        },
        "id": "Ai26zzYLKwRz",
        "outputId": "fd0a4ea5-5e58-4a6d-a455-5a0b912d591c"
      },
      "execution_count": null,
      "outputs": [
        {
          "output_type": "stream",
          "name": "stdout",
          "text": [
            "LESSER\n",
            "-1\n"
          ]
        }
      ]
    },
    {
      "cell_type": "code",
      "source": [
        "#nested if statements\n",
        "#bus tickets\n",
        "age=int(input(\"Enter age=\"))\n",
        "if age>12 and age<=18 :\n",
        "  if age<15:\n",
        "    print(\"Quarter ticket \")\n",
        "  elif age==15:\n",
        "    print(\"Quarter ticket + discount\")\n",
        "  else:\n",
        "    print(\"half ticket\")\n",
        "elif age>=19 and age<=60:\n",
        "  print(\"Full ticket\")\n",
        "elif age>60:\n",
        "  print(\"Full ticket + discount\")\n",
        "else:\n",
        "  print(\"No ticket\")"
      ],
      "metadata": {
        "colab": {
          "base_uri": "https://localhost:8080/"
        },
        "id": "0jQn6ISbK3OZ",
        "outputId": "2253fb75-00a8-4813-cbed-58d3f442664c"
      },
      "execution_count": null,
      "outputs": [
        {
          "output_type": "stream",
          "name": "stdout",
          "text": [
            "Enter age=19\n",
            "Full ticket\n"
          ]
        }
      ]
    },
    {
      "cell_type": "code",
      "source": [
        "#for loop\n",
        "number=[1,3,5,7,9,11,13,15,17,19]\n",
        "sum=0\n",
        "for value in number:\n",
        "  sum+=value;\n",
        "print(\"The sum is =\",sum)\n",
        "print(\"\\n\")\n",
        "for i in range(1,12):\n",
        "  print(i)\n",
        "print(\"\\n\")\n",
        "for i in range(1,12,2):\n",
        "  print(i)\n",
        "\n",
        "print(\"\\n\")\n",
        "x=[1,2,3,4,5,6,7]\n",
        "y=[]\n",
        "for a in x:\n",
        "  if a%2==0:\n",
        "    y.append(a)\n",
        "print(y)"
      ],
      "metadata": {
        "colab": {
          "base_uri": "https://localhost:8080/"
        },
        "id": "rTX71UovK72i",
        "outputId": "7ee1de6e-9e70-4705-d21d-8abdc901d435"
      },
      "execution_count": null,
      "outputs": [
        {
          "output_type": "stream",
          "name": "stdout",
          "text": [
            "The sum is = 100\n",
            "\n",
            "\n",
            "1\n",
            "2\n",
            "3\n",
            "4\n",
            "5\n",
            "6\n",
            "7\n",
            "8\n",
            "9\n",
            "10\n",
            "11\n",
            "\n",
            "\n",
            "1\n",
            "3\n",
            "5\n",
            "7\n",
            "9\n",
            "11\n",
            "\n",
            "\n",
            "[2, 4, 6]\n"
          ]
        }
      ]
    },
    {
      "cell_type": "code",
      "source": [
        "# using statements in for loop\n",
        "d=[1,2,5]\n",
        "for i in d:\n",
        "  print(i)\n",
        "else:\n",
        "  print(\"no items left\")\n",
        "print(\"\\n\")\n",
        "for l in \"ADUPA VIVEK\":\n",
        "  print(\"current letter :\",l)"
      ],
      "metadata": {
        "colab": {
          "base_uri": "https://localhost:8080/"
        },
        "id": "e8xCna-uLA7I",
        "outputId": "f11cbf2f-53d8-4642-a5e8-0287b85d191c"
      },
      "execution_count": null,
      "outputs": [
        {
          "output_type": "stream",
          "name": "stdout",
          "text": [
            "1\n",
            "2\n",
            "5\n",
            "no items left\n",
            "\n",
            "\n",
            "current letter : A\n",
            "current letter : D\n",
            "current letter : U\n",
            "current letter : P\n",
            "current letter : A\n",
            "current letter :  \n",
            "current letter : V\n",
            "current letter : I\n",
            "current letter : V\n",
            "current letter : E\n",
            "current letter : K\n"
          ]
        }
      ]
    },
    {
      "cell_type": "code",
      "source": [
        "#iterating by sequence indexing\n",
        "stationery=['Eraser','pen','pencil']\n",
        "for index in range(len(stationery)):\n",
        "  print(\"current stationery:\",stationery[index])"
      ],
      "metadata": {
        "colab": {
          "base_uri": "https://localhost:8080/"
        },
        "id": "DS8-wgsrLGqr",
        "outputId": "ffebc7be-5369-4e09-bfd5-7f2defb3eb33"
      },
      "execution_count": null,
      "outputs": [
        {
          "output_type": "stream",
          "name": "stdout",
          "text": [
            "current stationery: Eraser\n",
            "current stationery: pen\n",
            "current stationery: pencil\n"
          ]
        }
      ]
    },
    {
      "cell_type": "code",
      "source": [
        "#while\n",
        "i=0\n",
        "while i<=15:\n",
        "  print(i)\n",
        "  i+=1\n",
        "print(\"\\n\")\n",
        "i=0\n",
        "while i<15:\n",
        "  print(i,\"is less than 15\")\n",
        "  i+=1\n",
        "else:\n",
        "  print(i,\"is not less than 15\")"
      ],
      "metadata": {
        "colab": {
          "base_uri": "https://localhost:8080/"
        },
        "id": "ULp_Poo9LWuf",
        "outputId": "28a10431-046b-41fe-ff45-75a28f897ad0"
      },
      "execution_count": null,
      "outputs": [
        {
          "output_type": "stream",
          "name": "stdout",
          "text": [
            "0\n",
            "1\n",
            "2\n",
            "3\n",
            "4\n",
            "5\n",
            "6\n",
            "7\n",
            "8\n",
            "9\n",
            "10\n",
            "11\n",
            "12\n",
            "13\n",
            "14\n",
            "15\n",
            "\n",
            "\n",
            "0 is less than 15\n",
            "1 is less than 15\n",
            "2 is less than 15\n",
            "3 is less than 15\n",
            "4 is less than 15\n",
            "5 is less than 15\n",
            "6 is less than 15\n",
            "7 is less than 15\n",
            "8 is less than 15\n",
            "9 is less than 15\n",
            "10 is less than 15\n",
            "11 is less than 15\n",
            "12 is less than 15\n",
            "13 is less than 15\n",
            "14 is less than 15\n",
            "15 is not less than 15\n"
          ]
        }
      ]
    },
    {
      "cell_type": "code",
      "source": [
        "#nested loops\n",
        "print(\"addition\")\n",
        "x=[[12,7,3],\n",
        "   [4,5,6],\n",
        "   [7,8,9]]\n",
        "y=[[5,8,1],[1,1,0],[5,3,7]]\n",
        "res=[[0,0,0],[0,0,0],[0,0,0]]\n",
        "for i in range(len(x)):\n",
        "  for j in range(len(x[0])):\n",
        "    res[i][j]=x[i][j] + y[i][j]\n",
        "for r in res:\n",
        "  print(r)\n",
        "print(\"\\n\")\n",
        "print(\"Subtraction\")\n",
        "res=[[0,0,0],[0,0,0],[0,0,0]]\n",
        "for i in range(len(x)):\n",
        "  for j in range(len(x[0])):\n",
        "    res[i][j]=x[i][j] - y[i][j]\n",
        "for r in res:\n",
        "  print(r)\n",
        "print(\"\\n\")\n",
        "print(\"Multiplication\")\n",
        "res=[[0,0,0],[0,0,0],[0,0,0]]\n",
        "for i in range(len(x)):\n",
        "  for j in range(len(x[0])):\n",
        "    res[i][j]=x[i][j] * y[i][j]\n",
        "for r in res:\n",
        "  print(r)"
      ],
      "metadata": {
        "colab": {
          "base_uri": "https://localhost:8080/"
        },
        "id": "Jslrkk1ELfpg",
        "outputId": "a1188137-dcc6-44e0-92cd-5510e74462a8"
      },
      "execution_count": null,
      "outputs": [
        {
          "output_type": "stream",
          "name": "stdout",
          "text": [
            "addition\n",
            "[17, 15, 4]\n",
            "[5, 6, 6]\n",
            "[12, 11, 16]\n",
            "\n",
            "\n",
            "Subtraction\n",
            "[7, -1, 2]\n",
            "[3, 4, 6]\n",
            "[2, 5, 2]\n",
            "\n",
            "\n",
            "Multiplication\n",
            "[60, 56, 3]\n",
            "[4, 5, 0]\n",
            "[35, 24, 63]\n"
          ]
        }
      ]
    },
    {
      "cell_type": "code",
      "source": [
        "n1=int(input(\"Enter the value upto which table needed \"))\n",
        "i=1\n",
        "while(i<=n1):\n",
        "  print(f\"Table{i}\")\n",
        "  j=1\n",
        "  while(j<=10):\n",
        "    print(f\"{i}*{j}={i*j}\")\n",
        "    j+=1\n",
        "  print(\"________________\")\n",
        "  i+=1"
      ],
      "metadata": {
        "colab": {
          "base_uri": "https://localhost:8080/"
        },
        "id": "kcCgWtzdLhkh",
        "outputId": "7f5f3578-8184-4f0b-9778-8f6de92af350"
      },
      "execution_count": null,
      "outputs": [
        {
          "output_type": "stream",
          "name": "stdout",
          "text": [
            "Enter the value upto which table needed 6\n",
            "Table1\n",
            "1*1=1\n",
            "1*2=2\n",
            "1*3=3\n",
            "1*4=4\n",
            "1*5=5\n",
            "1*6=6\n",
            "1*7=7\n",
            "1*8=8\n",
            "1*9=9\n",
            "1*10=10\n",
            "________________\n",
            "Table2\n",
            "2*1=2\n",
            "2*2=4\n",
            "2*3=6\n",
            "2*4=8\n",
            "2*5=10\n",
            "2*6=12\n",
            "2*7=14\n",
            "2*8=16\n",
            "2*9=18\n",
            "2*10=20\n",
            "________________\n",
            "Table3\n",
            "3*1=3\n",
            "3*2=6\n",
            "3*3=9\n",
            "3*4=12\n",
            "3*5=15\n",
            "3*6=18\n",
            "3*7=21\n",
            "3*8=24\n",
            "3*9=27\n",
            "3*10=30\n",
            "________________\n",
            "Table4\n",
            "4*1=4\n",
            "4*2=8\n",
            "4*3=12\n",
            "4*4=16\n",
            "4*5=20\n",
            "4*6=24\n",
            "4*7=28\n",
            "4*8=32\n",
            "4*9=36\n",
            "4*10=40\n",
            "________________\n",
            "Table5\n",
            "5*1=5\n",
            "5*2=10\n",
            "5*3=15\n",
            "5*4=20\n",
            "5*5=25\n",
            "5*6=30\n",
            "5*7=35\n",
            "5*8=40\n",
            "5*9=45\n",
            "5*10=50\n",
            "________________\n",
            "Table6\n",
            "6*1=6\n",
            "6*2=12\n",
            "6*3=18\n",
            "6*4=24\n",
            "6*5=30\n",
            "6*6=36\n",
            "6*7=42\n",
            "6*8=48\n",
            "6*9=54\n",
            "6*10=60\n",
            "________________\n"
          ]
        }
      ]
    },
    {
      "cell_type": "code",
      "source": [
        "#control statements\n",
        "#break\n",
        "for l in 'Bootcamp':\n",
        "  if l=='h':\n",
        "    break\n",
        "  print(\"current letter:\",l)\n",
        "print(\"\\n\")\n",
        "i=10\n",
        "while(i>0):\n",
        "  print(\"current value:\",i)\n",
        "  i=i-1\n",
        "  if i==5:\n",
        "    break"
      ],
      "metadata": {
        "colab": {
          "base_uri": "https://localhost:8080/"
        },
        "id": "2p8y7igGLscK",
        "outputId": "ccffff34-f781-400a-a390-a194b935dace"
      },
      "execution_count": null,
      "outputs": [
        {
          "output_type": "stream",
          "name": "stdout",
          "text": [
            "current letter: B\n",
            "current letter: o\n",
            "current letter: o\n",
            "current letter: t\n",
            "current letter: c\n",
            "current letter: a\n",
            "current letter: m\n",
            "current letter: p\n",
            "\n",
            "\n",
            "current value: 10\n",
            "current value: 9\n",
            "current value: 8\n",
            "current value: 7\n",
            "current value: 6\n"
          ]
        }
      ]
    },
    {
      "cell_type": "code",
      "source": [
        "#continue\n",
        "for l in 'BootCamp':\n",
        "  if l=='h':\n",
        "    continue\n",
        "  print(\"current letter:\",l)\n",
        "print(\"\\n\")\n",
        "i=10\n",
        "while(i>0):\n",
        "  print(\"current value:\",i)\n",
        "  i=i-1\n",
        "  if i==5:\n",
        "    continue"
      ],
      "metadata": {
        "colab": {
          "base_uri": "https://localhost:8080/"
        },
        "id": "sam6E3EILzjT",
        "outputId": "c2da0a47-e885-4ef2-f4cf-b87bece5828a"
      },
      "execution_count": null,
      "outputs": [
        {
          "output_type": "stream",
          "name": "stdout",
          "text": [
            "current letter: B\n",
            "current letter: o\n",
            "current letter: o\n",
            "current letter: t\n",
            "current letter: C\n",
            "current letter: a\n",
            "current letter: m\n",
            "current letter: p\n",
            "\n",
            "\n",
            "current value: 10\n",
            "current value: 9\n",
            "current value: 8\n",
            "current value: 7\n",
            "current value: 6\n",
            "current value: 5\n",
            "current value: 4\n",
            "current value: 3\n",
            "current value: 2\n",
            "current value: 1\n"
          ]
        }
      ]
    },
    {
      "cell_type": "code",
      "source": [
        "#pass\n",
        "for l in 'BootCamp':\n",
        "  if l=='h':\n",
        "    pass\n",
        "  print(\"This is pass block\")\n",
        "  print(\"current letter:\",l)\n",
        "print(\"\\n\")\n",
        "i=10\n",
        "while(i>0):\n",
        "  print(\"current value:\",i)\n",
        "  i=i-1\n",
        "  if i==5:\n",
        "    print(\"This is pass block\")"
      ],
      "metadata": {
        "colab": {
          "base_uri": "https://localhost:8080/"
        },
        "id": "5xE0iS46L5F7",
        "outputId": "0e96d50b-4131-4a7b-af67-c7dfc25af9bc"
      },
      "execution_count": null,
      "outputs": [
        {
          "output_type": "stream",
          "name": "stdout",
          "text": [
            "This is pass block\n",
            "current letter: B\n",
            "This is pass block\n",
            "current letter: o\n",
            "This is pass block\n",
            "current letter: o\n",
            "This is pass block\n",
            "current letter: t\n",
            "This is pass block\n",
            "current letter: C\n",
            "This is pass block\n",
            "current letter: a\n",
            "This is pass block\n",
            "current letter: m\n",
            "This is pass block\n",
            "current letter: p\n",
            "\n",
            "\n",
            "current value: 10\n",
            "current value: 9\n",
            "current value: 8\n",
            "current value: 7\n",
            "current value: 6\n",
            "This is pass block\n",
            "current value: 5\n",
            "current value: 4\n",
            "current value: 3\n",
            "current value: 2\n",
            "current value: 1\n"
          ]
        }
      ]
    },
    {
      "cell_type": "code",
      "source": [
        "str1=input(\"Enter a string:\")\n",
        "if(str1==str1[::-1]):\n",
        "  print(\"palindrome\")\n",
        "else:\n",
        "  print(\"not a palindrome\")"
      ],
      "metadata": {
        "colab": {
          "base_uri": "https://localhost:8080/"
        },
        "id": "wpEiYRm1L7Hj",
        "outputId": "9cb5337a-7cfd-49b6-f9cb-922604a3f9db"
      },
      "execution_count": null,
      "outputs": [
        {
          "output_type": "stream",
          "name": "stdout",
          "text": [
            "Enter a string:pop\n",
            "palindrome\n"
          ]
        }
      ]
    },
    {
      "cell_type": "code",
      "source": [
        "for i in range(1,51):\n",
        "  str2=str(i)\n",
        "  if(str2==str2[::-1]):\n",
        "    print(i)"
      ],
      "metadata": {
        "colab": {
          "base_uri": "https://localhost:8080/"
        },
        "id": "_x8EXQOFMFTT",
        "outputId": "f8de399d-c134-4661-f587-ee0db72dd16a"
      },
      "execution_count": null,
      "outputs": [
        {
          "output_type": "stream",
          "name": "stdout",
          "text": [
            "1\n",
            "2\n",
            "3\n",
            "4\n",
            "5\n",
            "6\n",
            "7\n",
            "8\n",
            "9\n",
            "11\n",
            "22\n",
            "33\n",
            "44\n"
          ]
        }
      ]
    },
    {
      "cell_type": "code",
      "source": [
        "l=[1,2,3,4,5,6,7,8,9,10]\n",
        "for i in range(len(l)):\n",
        "  if(l[i]%2==0):\n",
        "    print(l[i])"
      ],
      "metadata": {
        "colab": {
          "base_uri": "https://localhost:8080/"
        },
        "id": "QXsMxNJ8MHYq",
        "outputId": "9484ddad-898a-46f9-bbd9-489f3c3e1cf0"
      },
      "execution_count": null,
      "outputs": [
        {
          "output_type": "stream",
          "name": "stdout",
          "text": [
            "2\n",
            "4\n",
            "6\n",
            "8\n",
            "10\n"
          ]
        }
      ]
    },
    {
      "cell_type": "markdown",
      "source": [
        "Write a python program that generates desired output i.e, from countries list select out the country names that contain string “and”\n",
        "\n",
        "Countries_list=[“Finland”,”Germany”,”Sweden”,”Ireland”,”Turkey”]\n",
        "\n",
        "Output: [“Finland”,”Ireland”]"
      ],
      "metadata": {
        "id": "5xGlOJfQMdB6"
      }
    },
    {
      "cell_type": "code",
      "source": [
        "Countries_list=[\"Finland\",\"Germany\",\"Sweden\",\"Ireland\",\"Turkey\"]\n",
        "l=[]\n",
        "for i in Countries_list:\n",
        "  if (\"and\" in i):\n",
        "    l.append(i)\n",
        "print(l)"
      ],
      "metadata": {
        "colab": {
          "base_uri": "https://localhost:8080/"
        },
        "id": "N1_-dKi0Me8N",
        "outputId": "b5b20492-ceb8-4929-e98c-ddde1fabaf4c"
      },
      "execution_count": null,
      "outputs": [
        {
          "output_type": "stream",
          "name": "stdout",
          "text": [
            "['Finland', 'Ireland']\n"
          ]
        }
      ]
    },
    {
      "cell_type": "markdown",
      "source": [
        "Write a python program that print respective grades of student:Grade – Outstanding  for marks>=90Grade A+ for marks >=80, <90Grade A for marks >=70, <80Grade B for marks >=60 and <70<60 Grade C"
      ],
      "metadata": {
        "id": "T2PQ9gKcMlfc"
      }
    },
    {
      "cell_type": "code",
      "source": [
        "marks=int(input(\"Enter your marks=\"))\n",
        "if(marks>=90):\n",
        "  print(\"outstanding\")\n",
        "elif(marks >=80 & marks<90):\n",
        "  print(\"grade A+\")\n",
        "elif( marks >=70and marks<90):\n",
        "  print(\"grade A\")\n",
        "elif( marks >=60and marks<90):\n",
        "  print(\"garde B\")\n",
        "else:\n",
        "  print(\"garde C\")"
      ],
      "metadata": {
        "colab": {
          "base_uri": "https://localhost:8080/"
        },
        "id": "mog_ZUh1MnVr",
        "outputId": "6bc4e371-2b3c-4d7e-f357-e1a92e996d0f"
      },
      "execution_count": null,
      "outputs": [
        {
          "output_type": "stream",
          "name": "stdout",
          "text": [
            "Enter your marks=96\n",
            "outstanding\n"
          ]
        }
      ]
    },
    {
      "cell_type": "markdown",
      "source": [
        "Create a list with name state list with 5 elements State_list = [“Delhi”,”Telangana”,”Goa”,”AP”,”Kerala”]\n",
        "\n",
        "Write a python program that extract first and last characters of each item and print in desired format.\n",
        "\n",
        "Input: [“Delhi”,”Telangana”,”Goa”,”AP”,”Kerala”]\n",
        "\n",
        "Output: dItAgAaOkA"
      ],
      "metadata": {
        "id": "zaRW-HQzMxNa"
      }
    },
    {
      "cell_type": "code",
      "source": [
        "list1= [\"Delhi\",\"Telangana\",\"Goa\",\"AP\",\"Kerala\"]\n",
        "for i in range(len(list1)):\n",
        "  str33=list1[i][0]\n",
        "  str22=list1[i][-1] \n",
        "  print((str33+str22).swapcase())"
      ],
      "metadata": {
        "colab": {
          "base_uri": "https://localhost:8080/"
        },
        "id": "7z7fXecpMzKa",
        "outputId": "0502d920-194d-4823-d115-442c0aee8797"
      },
      "execution_count": null,
      "outputs": [
        {
          "output_type": "stream",
          "name": "stdout",
          "text": [
            "dI\n",
            "tA\n",
            "gA\n",
            "ap\n",
            "kA\n"
          ]
        }
      ]
    },
    {
      "cell_type": "code",
      "source": [
        "#user defined functions\n",
        "def greet(name):\n",
        "\n",
        "  print(\"Hello,\"+name+\" Good Morning\")\n",
        "greet(\"ADUPA VIVEK\")"
      ],
      "metadata": {
        "colab": {
          "base_uri": "https://localhost:8080/"
        },
        "id": "OE_wRjasNLik",
        "outputId": "3233368f-4669-42c4-b135-87f3af9237cb"
      },
      "execution_count": null,
      "outputs": [
        {
          "output_type": "stream",
          "name": "stdout",
          "text": [
            "Hello,ADUPA VIVEK Good Morning\n"
          ]
        }
      ]
    },
    {
      "cell_type": "code",
      "source": [
        "#default\n",
        "def A(a=4,b=1,c=2):\n",
        "  return a+b+c\n",
        "print(A(3))\n",
        "print(A(4,4,4))\n",
        "print(A(2,2))"
      ],
      "metadata": {
        "colab": {
          "base_uri": "https://localhost:8080/"
        },
        "id": "08dl221yNTty",
        "outputId": "4ce3e94e-c666-4807-f68f-284754f58705"
      },
      "execution_count": null,
      "outputs": [
        {
          "output_type": "stream",
          "name": "stdout",
          "text": [
            "6\n",
            "12\n",
            "6\n"
          ]
        }
      ]
    },
    {
      "cell_type": "code",
      "source": [
        "#keyword\n",
        "def A(a,b=1,c=2):\n",
        "  return a+b+c\n",
        "print(A(a=2,b=3))\n",
        "print(A(c=3,b=2,a=1))"
      ],
      "metadata": {
        "colab": {
          "base_uri": "https://localhost:8080/"
        },
        "id": "mv_RD7Q8NXwb",
        "outputId": "e613e8a0-d7d0-4e4d-e1f5-9f1b4f49089b"
      },
      "execution_count": null,
      "outputs": [
        {
          "output_type": "stream",
          "name": "stdout",
          "text": [
            "7\n",
            "6\n"
          ]
        }
      ]
    },
    {
      "cell_type": "code",
      "source": [
        "#positional\n",
        "def add(a,b,c):\n",
        "  return a+b+c\n",
        "print(add(10,20,30))\n",
        "print(add(10,b=20,c=30))"
      ],
      "metadata": {
        "colab": {
          "base_uri": "https://localhost:8080/"
        },
        "id": "VHN29RKUNber",
        "outputId": "3efe0e84-5865-4807-8df2-2aa9bb7f6bfe"
      },
      "execution_count": null,
      "outputs": [
        {
          "output_type": "stream",
          "name": "stdout",
          "text": [
            "60\n",
            "60\n"
          ]
        }
      ]
    },
    {
      "cell_type": "code",
      "source": [
        "#arbitrary keyword\n",
        "def key_arg(**kwargs):\n",
        "  return kwargs\n",
        "dict1=key_arg(Apples=15,oranges=25,grapes=35)\n",
        "print(dict1['Apples'])\n",
        "print(dict1)"
      ],
      "metadata": {
        "colab": {
          "base_uri": "https://localhost:8080/"
        },
        "id": "YRsjZ8WvNfNr",
        "outputId": "17c18ada-cedb-49aa-c1a5-628ea9c75a3f"
      },
      "execution_count": null,
      "outputs": [
        {
          "output_type": "stream",
          "name": "stdout",
          "text": [
            "15\n",
            "{'Apples': 15, 'oranges': 25, 'grapes': 35}\n"
          ]
        }
      ]
    },
    {
      "cell_type": "code",
      "source": [
        "#higher order functions\n",
        "def shout(text):\n",
        "  return text.upper()\n",
        "def whisper(text):\n",
        "  return text.lower()\n",
        "def explain(func):\n",
        "  greet=func(\"Welcome to BootCAmp\")\n",
        "  print(greet)\n",
        "explain(shout)\n",
        "explain(whisper)"
      ],
      "metadata": {
        "colab": {
          "base_uri": "https://localhost:8080/"
        },
        "id": "wJE7uLhYNpg6",
        "outputId": "b606731f-4950-49ef-f95a-9421361d0c6a"
      },
      "execution_count": null,
      "outputs": [
        {
          "output_type": "stream",
          "name": "stdout",
          "text": [
            "WELCOME TO BOOTCAMP\n",
            "welcome to bootcamp\n"
          ]
        }
      ]
    },
    {
      "cell_type": "code",
      "source": [
        "#lambda\n",
        "def incr(x):\n",
        "  x+=1\n",
        "  return x\n",
        "print(incr(4))\n",
        "print((lambda x:x+1)(4))\n",
        "res=lambda x:x+1\n",
        "print(res(4))"
      ],
      "metadata": {
        "colab": {
          "base_uri": "https://localhost:8080/"
        },
        "id": "aoSuDx_WNtji",
        "outputId": "99a9a916-a501-4251-8480-cbff8cea21ab"
      },
      "execution_count": null,
      "outputs": [
        {
          "output_type": "stream",
          "name": "stdout",
          "text": [
            "5\n",
            "5\n",
            "5\n"
          ]
        }
      ]
    },
    {
      "cell_type": "code",
      "source": [
        "print((lambda x,y:x**y)(2,2))\n",
        "print((lambda x,y:x+y)(2,3))\n",
        "res=lambda x,y:x*y\n",
        "print(res(2,3))"
      ],
      "metadata": {
        "colab": {
          "base_uri": "https://localhost:8080/"
        },
        "id": "JN3uCVYrNxvq",
        "outputId": "65a8493f-8638-4ee8-c6b1-de596de54a0f"
      },
      "execution_count": null,
      "outputs": [
        {
          "output_type": "stream",
          "name": "stdout",
          "text": [
            "4\n",
            "5\n",
            "6\n"
          ]
        }
      ]
    },
    {
      "cell_type": "code",
      "source": [
        "li=[1,2,3,4,5]\n",
        "#res=lambda x:x+2\n",
        "#print(res(li))"
      ],
      "metadata": {
        "id": "UXWwT2_tN5CT"
      },
      "execution_count": null,
      "outputs": []
    },
    {
      "cell_type": "code",
      "source": [
        "def inc(num):\n",
        "  return num+2\n",
        "res_list=list(map(inc,li))\n",
        "print(res_list)\n",
        "\n",
        "\n",
        "res_list1=list(map(lambda x:x+2,li))\n",
        "print(res_list1)\n",
        "\n",
        "\n",
        "print(list(map(lambda x:x+2,li)))"
      ],
      "metadata": {
        "colab": {
          "base_uri": "https://localhost:8080/"
        },
        "id": "SghckUyWOC69",
        "outputId": "013db9b3-3b66-4ea3-d2e8-fe901de586d4"
      },
      "execution_count": null,
      "outputs": [
        {
          "output_type": "stream",
          "name": "stdout",
          "text": [
            "[3, 4, 5, 6, 7]\n",
            "[3, 4, 5, 6, 7]\n",
            "[3, 4, 5, 6, 7]\n"
          ]
        }
      ]
    },
    {
      "cell_type": "code",
      "source": [
        "def eod(num):\n",
        "  if num%2==0 :\n",
        "    return \"The number {} is even\".format(num)\n",
        "  else :\n",
        "    return \"The number {} is odd\".format(num)\n",
        "eod(20)\n",
        "\n",
        "li1=[1,2,3,4,5,6,7,8,9,10]\n",
        "list(map(eod,li1))"
      ],
      "metadata": {
        "colab": {
          "base_uri": "https://localhost:8080/"
        },
        "id": "Z0v8yToUOGvy",
        "outputId": "f28b8340-5ded-4951-ac39-4d63f0e9bbc6"
      },
      "execution_count": null,
      "outputs": [
        {
          "output_type": "execute_result",
          "data": {
            "text/plain": [
              "['The number 1 is odd',\n",
              " 'The number 2 is even',\n",
              " 'The number 3 is odd',\n",
              " 'The number 4 is even',\n",
              " 'The number 5 is odd',\n",
              " 'The number 6 is even',\n",
              " 'The number 7 is odd',\n",
              " 'The number 8 is even',\n",
              " 'The number 9 is odd',\n",
              " 'The number 10 is even']"
            ]
          },
          "metadata": {},
          "execution_count": 48
        }
      ]
    },
    {
      "cell_type": "code",
      "source": [
        "li2=['apple','banana','grapes']\n",
        "res=list(map(lambda x:x.capitalize(),li2))\n",
        "print(res)"
      ],
      "metadata": {
        "colab": {
          "base_uri": "https://localhost:8080/"
        },
        "id": "MvenBYpNOIZF",
        "outputId": "ec706b97-6b5b-4c71-e8c9-3038c5ed963e"
      },
      "execution_count": null,
      "outputs": [
        {
          "output_type": "stream",
          "name": "stdout",
          "text": [
            "['Apple', 'Banana', 'Grapes']\n"
          ]
        }
      ]
    },
    {
      "cell_type": "code",
      "source": [
        "#filter\n",
        "def odd_num(n):\n",
        "  if(n%2!=0):\n",
        "    return n\n",
        "li3=[9,26,35,-2,50]\n",
        "print(list(filter(odd_num,li3)))"
      ],
      "metadata": {
        "colab": {
          "base_uri": "https://localhost:8080/"
        },
        "id": "UVGOtabgOO2b",
        "outputId": "4cda593b-de98-4101-c988-3dc2b9df59d7"
      },
      "execution_count": null,
      "outputs": [
        {
          "output_type": "stream",
          "name": "stdout",
          "text": [
            "[9, 35]\n"
          ]
        }
      ]
    },
    {
      "cell_type": "code",
      "source": [
        "li4=[28,64,53,66,39,22,56,107,34]\n",
        "temp=list(filter(lambda x:x%2==0,li4))\n",
        "print(temp)"
      ],
      "metadata": {
        "colab": {
          "base_uri": "https://localhost:8080/"
        },
        "id": "QG6oCpowOSs7",
        "outputId": "e8177c6a-217d-4625-d5cc-9a40b36ded9c"
      },
      "execution_count": null,
      "outputs": [
        {
          "output_type": "stream",
          "name": "stdout",
          "text": [
            "[28, 64, 66, 22, 56, 34]\n"
          ]
        }
      ]
    },
    {
      "cell_type": "code",
      "source": [
        "#math module\n",
        "import math as m\n",
        "print(m.pi)\n",
        "print(m.e)\n",
        "print(m.sqrt(4))\n",
        "print(m.factorial(5))\n",
        "print(m.pow(2,2))\n",
        "print(m.floor(1.4))\n",
        "print(m.tan(5))\n",
        "print(m.log(2))"
      ],
      "metadata": {
        "colab": {
          "base_uri": "https://localhost:8080/"
        },
        "id": "qLkrvuRHOga0",
        "outputId": "e6153fc1-85cd-443f-99ab-b7c726e8d662"
      },
      "execution_count": null,
      "outputs": [
        {
          "output_type": "stream",
          "name": "stdout",
          "text": [
            "3.141592653589793\n",
            "2.718281828459045\n",
            "2.0\n",
            "120\n",
            "4.0\n",
            "1\n",
            "-3.380515006246586\n",
            "0.6931471805599453\n"
          ]
        }
      ]
    },
    {
      "cell_type": "code",
      "source": [
        "#sys module\n",
        "import sys\n",
        "print(sys.path)\n",
        "print(sys.version)\n",
        "print(sys.maxsize)"
      ],
      "metadata": {
        "colab": {
          "base_uri": "https://localhost:8080/"
        },
        "id": "ucJ8GB3IOks4",
        "outputId": "b2d1defe-53fb-4781-8695-029c55aee57f"
      },
      "execution_count": null,
      "outputs": [
        {
          "output_type": "stream",
          "name": "stdout",
          "text": [
            "['', '/content', '/env/python', '/usr/lib/python37.zip', '/usr/lib/python3.7', '/usr/lib/python3.7/lib-dynload', '/usr/local/lib/python3.7/dist-packages', '/usr/lib/python3/dist-packages', '/usr/local/lib/python3.7/dist-packages/IPython/extensions', '/root/.ipython']\n",
            "3.7.13 (default, Apr 24 2022, 01:04:09) \n",
            "[GCC 7.5.0]\n",
            "9223372036854775807\n"
          ]
        }
      ]
    },
    {
      "cell_type": "code",
      "source": [
        "#statistics module\n",
        "import statistics as st\n",
        "print(st.mean([11,64,13]))\n",
        "print(st.median([91,12,73,24,25]))\n",
        "print(st.mode([11,2,3,11,11]))"
      ],
      "metadata": {
        "colab": {
          "base_uri": "https://localhost:8080/"
        },
        "id": "Dfq6ezcuOsvZ",
        "outputId": "decbf0a1-42de-433e-ae86-8e448df64839"
      },
      "execution_count": null,
      "outputs": [
        {
          "output_type": "stream",
          "name": "stdout",
          "text": [
            "29.333333333333332\n",
            "25\n",
            "11\n"
          ]
        }
      ]
    },
    {
      "cell_type": "code",
      "source": [
        "#time module\n",
        "import time\n",
        "print(time.time())\n",
        "print(time.localtime())\n",
        "print(time.asctime())\n",
        "print(time.ctime())\n",
        "print(time.sleep(1.5))"
      ],
      "metadata": {
        "colab": {
          "base_uri": "https://localhost:8080/"
        },
        "id": "J9U6djrtOzjL",
        "outputId": "7e30f035-49e8-4df3-b9b8-ce95d3af4fb3"
      },
      "execution_count": null,
      "outputs": [
        {
          "output_type": "stream",
          "name": "stdout",
          "text": [
            "1655310707.9136286\n",
            "time.struct_time(tm_year=2022, tm_mon=6, tm_mday=15, tm_hour=16, tm_min=31, tm_sec=47, tm_wday=2, tm_yday=166, tm_isdst=0)\n",
            "Wed Jun 15 16:31:47 2022\n",
            "Wed Jun 15 16:31:47 2022\n",
            "None\n"
          ]
        }
      ]
    },
    {
      "cell_type": "code",
      "source": [
        "#random module\n",
        "import random  as r\n",
        "print(r.randrange(1,16))\n",
        "print(r.randint(1,100))\n",
        "print(r.random())"
      ],
      "metadata": {
        "colab": {
          "base_uri": "https://localhost:8080/"
        },
        "id": "VHWAsXc6O1SS",
        "outputId": "e37652aa-d36d-4528-9035-cca9ed62f652"
      },
      "execution_count": null,
      "outputs": [
        {
          "output_type": "stream",
          "name": "stdout",
          "text": [
            "5\n",
            "34\n",
            "0.4997950039679525\n"
          ]
        }
      ]
    },
    {
      "cell_type": "code",
      "source": [
        "import random as r\n",
        "g_num=r.randint(0,5)\n",
        "g1_num=int(input(\"Enter a number=\"))\n",
        "if g1_num==g_num :\n",
        "  print(\"you won\")\n",
        "else :\n",
        "  print(\"you lost\")"
      ],
      "metadata": {
        "colab": {
          "base_uri": "https://localhost:8080/"
        },
        "id": "9PzP7x3NO9el",
        "outputId": "2e02cc03-e063-4cbf-b89a-f756b0e9dc2d"
      },
      "execution_count": null,
      "outputs": [
        {
          "output_type": "stream",
          "name": "stdout",
          "text": [
            "Enter a number=4\n",
            "you lost\n"
          ]
        }
      ]
    },
    {
      "cell_type": "markdown",
      "source": [
        "Write a python program that remove items that are multiples of 5 from list:li=[1,2,5,6,7,10,15,25,65,78,90]o/p: [1,2,6,7,78]"
      ],
      "metadata": {
        "id": "r6XIOIeJPJm6"
      }
    },
    {
      "cell_type": "code",
      "source": [
        "li=[1,2,5,6,7,10,15,25,65,78,90]\n",
        "res=list(filter(lambda x:x%5!=0,li))\n",
        "print(res)"
      ],
      "metadata": {
        "colab": {
          "base_uri": "https://localhost:8080/"
        },
        "id": "VXSCvvWSPLg6",
        "outputId": "fd974da7-c1dd-4357-f6ca-c81371cbedfe"
      },
      "execution_count": null,
      "outputs": [
        {
          "output_type": "stream",
          "name": "stdout",
          "text": [
            "[1, 2, 6, 7, 78]\n"
          ]
        }
      ]
    },
    {
      "cell_type": "markdown",
      "source": [
        "Write a python program that generates desired output from fruits list. Filter out the fruits names that don’t start with ‘A’\n",
        "\n",
        "Fruit=[“Apple”,”Banana”,”Pear”,”Avacado”,”Orange”,”Amla”]\n",
        "\n",
        "Output: [“Apple”,”Avacado”,”Amla”]"
      ],
      "metadata": {
        "id": "x1znivHDPUos"
      }
    },
    {
      "cell_type": "code",
      "source": [
        "Fruit=[\"Apple\",\"Banana\",\"Pear\",\"Avacado\",\"Orange\",\"Amla\"]\n",
        "res=list(filter(lambda x:x[0]=='A',Fruit))\n",
        "print(res)"
      ],
      "metadata": {
        "colab": {
          "base_uri": "https://localhost:8080/"
        },
        "id": "JFX00L4BPcoq",
        "outputId": "11f01570-cbb6-41fd-f2e2-1cc987e25216"
      },
      "execution_count": null,
      "outputs": [
        {
          "output_type": "stream",
          "name": "stdout",
          "text": [
            "['Apple', 'Avacado', 'Amla']\n"
          ]
        }
      ]
    },
    {
      "cell_type": "markdown",
      "source": [
        "Mssg=”Welcome to gradstellar bootcamp” X=”number of occurrences of ‘o’ in mssg”\n",
        "\n",
        "Y=”number of occurrences of ‘e’ in mssg”\n",
        "\n",
        "Compute (X+Y)2"
      ],
      "metadata": {
        "id": "s7NF_V_XPhOE"
      }
    },
    {
      "cell_type": "code",
      "source": [
        "Mssg=\"Welcome to gradstellar bootcamp\"\n",
        "x=Mssg.count('o')\n",
        "print(x)\n",
        "y=Mssg.count('e')\n",
        "print(y)\n",
        "print(\"(x+y)^2=\",x*x+y*y+2*x*y)"
      ],
      "metadata": {
        "colab": {
          "base_uri": "https://localhost:8080/"
        },
        "id": "uV-JYmi_Ph8U",
        "outputId": "61f7c9e1-0cb2-4d17-9fbb-4d9075996122"
      },
      "execution_count": null,
      "outputs": [
        {
          "output_type": "stream",
          "name": "stdout",
          "text": [
            "4\n",
            "3\n",
            "(x+y)^2= 49\n"
          ]
        }
      ]
    },
    {
      "cell_type": "markdown",
      "source": [
        "Write python program that filters a list by removing the elements that not start with vowel. I/P: [‘apple’,’orange’,’grapes’,’ball’,’bat’,’umbrella’]\n",
        "\n",
        "O/P: [‘apple’,’orange’,’umbrella’]"
      ],
      "metadata": {
        "id": "CXS103V2PqtO"
      }
    },
    {
      "cell_type": "code",
      "source": [
        "list22=[\"apple\",\"orange\",\"grapes\",\"ball\",\"bat\",\"umbrella\"]\n",
        "res=list(filter(lambda x:x[0] in 'AEIOUaeiou',list22))\n",
        "print(res)"
      ],
      "metadata": {
        "colab": {
          "base_uri": "https://localhost:8080/"
        },
        "id": "_DyKgffkPrT8",
        "outputId": "b58ed876-e0ee-4787-d956-0c83cc457b1e"
      },
      "execution_count": null,
      "outputs": [
        {
          "output_type": "stream",
          "name": "stdout",
          "text": [
            "['apple', 'orange', 'umbrella']\n"
          ]
        }
      ]
    },
    {
      "cell_type": "markdown",
      "source": [
        "Write a python program that displays unique element in a given list using function Li=[56,78,32,45,45,45,19,20]\n",
        "\n",
        "O/P: [56,78,32,45,19,20]"
      ],
      "metadata": {
        "id": "0tciVSaDPx4K"
      }
    },
    {
      "cell_type": "code",
      "source": [
        "Li23=[56,78,32,45,45,45,19,20]\n",
        "def dup(d):\n",
        "  n=[]\n",
        "  for i in d:\n",
        "    if i not in n:\n",
        "      n.append(i)\n",
        "  return n\n",
        "dup(Li23)"
      ],
      "metadata": {
        "colab": {
          "base_uri": "https://localhost:8080/"
        },
        "id": "5u1OJQyjPyer",
        "outputId": "b3ae270b-9ef2-4e1a-9f68-e5c3805965fe"
      },
      "execution_count": null,
      "outputs": [
        {
          "output_type": "execute_result",
          "data": {
            "text/plain": [
              "[56, 78, 32, 45, 19, 20]"
            ]
          },
          "metadata": {},
          "execution_count": 48
        }
      ]
    }
  ]
}